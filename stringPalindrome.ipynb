{
 "cells": [
  {
   "cell_type": "markdown",
   "id": "b1df6c31",
   "metadata": {},
   "source": [
    "Given a string, return whether or not it forms a palindrome ignoring case and non-alphabetical characters. \n",
    "Note: a palindrome is a sequence of characters that reads the same forwards and backwards. \n",
    "\n",
    "Ex: Given the following strings...\n",
    "\n",
    "\"level\", return true\n",
    "\"algorithm\", return false\n",
    "\"A man, a plan, a canal: Panama.\", return true"
   ]
  },
  {
   "cell_type": "code",
   "execution_count": 4,
   "id": "a6ca44b7",
   "metadata": {},
   "outputs": [],
   "source": [
    "string_1 = 'level'\n",
    "string_2 = 'algorithm'\n",
    "string_3 = \"A man, a plan, a canal: Panama.\""
   ]
  },
  {
   "cell_type": "code",
   "execution_count": 8,
   "id": "fad24ec9",
   "metadata": {},
   "outputs": [],
   "source": [
    "def palindrome_check(string):\n",
    "    if string == string[::-1]:\n",
    "        return True\n",
    "    else:\n",
    "        return False"
   ]
  },
  {
   "cell_type": "code",
   "execution_count": 9,
   "id": "2809c427",
   "metadata": {},
   "outputs": [
    {
     "data": {
      "text/plain": [
       "True"
      ]
     },
     "execution_count": 9,
     "metadata": {},
     "output_type": "execute_result"
    }
   ],
   "source": [
    "palindrome_check(string_1)"
   ]
  },
  {
   "cell_type": "code",
   "execution_count": 10,
   "id": "befdbd19",
   "metadata": {},
   "outputs": [
    {
     "data": {
      "text/plain": [
       "False"
      ]
     },
     "execution_count": 10,
     "metadata": {},
     "output_type": "execute_result"
    }
   ],
   "source": [
    "palindrome_check(string_2)"
   ]
  },
  {
   "cell_type": "code",
   "execution_count": 11,
   "id": "b7ef26e8",
   "metadata": {},
   "outputs": [
    {
     "data": {
      "text/plain": [
       "False"
      ]
     },
     "execution_count": 11,
     "metadata": {},
     "output_type": "execute_result"
    }
   ],
   "source": [
    "palindrome_check(string_3)"
   ]
  },
  {
   "cell_type": "code",
   "execution_count": null,
   "id": "8291dd23",
   "metadata": {},
   "outputs": [],
   "source": []
  }
 ],
 "metadata": {
  "kernelspec": {
   "display_name": "Python 3 (ipykernel)",
   "language": "python",
   "name": "python3"
  },
  "language_info": {
   "codemirror_mode": {
    "name": "ipython",
    "version": 3
   },
   "file_extension": ".py",
   "mimetype": "text/x-python",
   "name": "python",
   "nbconvert_exporter": "python",
   "pygments_lexer": "ipython3",
   "version": "3.10.8"
  }
 },
 "nbformat": 4,
 "nbformat_minor": 5
}
