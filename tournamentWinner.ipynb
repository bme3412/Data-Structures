{
 "cells": [
  {
   "cell_type": "code",
   "execution_count": 3,
   "id": "6bcf9304",
   "metadata": {},
   "outputs": [],
   "source": [
    "competitions = [\n",
    "    ['HTML', 'C#'],\n",
    "    ['C#', 'Python'],\n",
    "    ['Python', 'HTML']\n",
    "] # in the form of [homeTeam, awayTeam]\n",
    "\n",
    "results = [0,0,1]\n",
    "# 1 = home team won, #0 = away team won\n",
    "# there will be at least 2 rounds of competitions and there is guaranteed to be a winner\n",
    "# do not know the # of competitions beforehand\n"
   ]
  },
  {
   "cell_type": "code",
   "execution_count": 83,
   "id": "68f188a6",
   "metadata": {},
   "outputs": [],
   "source": [
    "def tournamentWinner(competitions, results):\n",
    "    teamPoints = {} # instantiate an empty dictioanry\n",
    "    currentWinner = '',0 # instantiate an empty winners tuple with \"blank', 0\"\n",
    "    \n",
    "    for competition, result in zip(competitions, results):\n",
    "        winner = competition[not result] # determine winner \n",
    "        loser = competition[result] # determine loser\n",
    "        \n",
    "        if winner not in teamPoints: teamPoints[winner] = 0 # instantiate\n",
    "        teamPoints[winner]+=3 # add points\n",
    "        \n",
    "        if teamPoints[winner] > currentWinner[1]: # if score of the winner > current Winner\n",
    "            currentWinner = winner, teamPoints[winner] # declare new winner\n",
    "    return currentWinner[0] # return winner of the tuple 1st value"
   ]
  },
  {
   "cell_type": "code",
   "execution_count": 84,
   "id": "c43e940e",
   "metadata": {},
   "outputs": [
    {
     "data": {
      "text/plain": [
       "'Python'"
      ]
     },
     "execution_count": 84,
     "metadata": {},
     "output_type": "execute_result"
    }
   ],
   "source": [
    "tournamentWinner(competitions, results)"
   ]
  },
  {
   "cell_type": "markdown",
   "id": "0f30c475",
   "metadata": {},
   "source": [
    "### In Python, the for `i` in `range(len(list_of_items)):` loop iterates through the indices of the list list_of_items rather than the items themselves. \n",
    "### Inside the loop, you can access each item of the list using `list_of_items[i].`\n",
    "\n",
    "\n"
   ]
  },
  {
   "cell_type": "code",
   "execution_count": 55,
   "id": "38b93ead",
   "metadata": {},
   "outputs": [
    {
     "name": "stdout",
     "output_type": "stream",
     "text": [
      "[0, 0, 1]\n"
     ]
    }
   ],
   "source": [
    "print(results)"
   ]
  },
  {
   "cell_type": "code",
   "execution_count": 24,
   "id": "598e9cf1",
   "metadata": {},
   "outputs": [
    {
     "data": {
      "text/plain": [
       "list"
      ]
     },
     "execution_count": 24,
     "metadata": {},
     "output_type": "execute_result"
    }
   ],
   "source": [
    "type(results)"
   ]
  },
  {
   "cell_type": "code",
   "execution_count": 27,
   "id": "4ce573e3",
   "metadata": {},
   "outputs": [
    {
     "name": "stdout",
     "output_type": "stream",
     "text": [
      "0\n",
      "0\n",
      "1\n"
     ]
    }
   ],
   "source": [
    "for i in results:\n",
    "    print(i)"
   ]
  },
  {
   "cell_type": "code",
   "execution_count": 90,
   "id": "e90ca549",
   "metadata": {},
   "outputs": [],
   "source": [
    "def tourneyWinner(competitions, results):\n",
    "    winners = []\n",
    "    for i in range(len(competitions)):\n",
    "        if results[i] == 0:\n",
    "            winners.append(competitions[i][1])\n",
    "        else:\n",
    "            winners.append(competitions[i][0])\n",
    "    final_winner= max(set(winners), key=winners.count)\n",
    "    return final_winner, winners"
   ]
  },
  {
   "cell_type": "code",
   "execution_count": 91,
   "id": "41f39e1e",
   "metadata": {},
   "outputs": [
    {
     "data": {
      "text/plain": [
       "('Python', ['C#', 'Python', 'Python'])"
      ]
     },
     "execution_count": 91,
     "metadata": {},
     "output_type": "execute_result"
    }
   ],
   "source": [
    "tourneyWinner(competitions, results)"
   ]
  },
  {
   "cell_type": "code",
   "execution_count": 1,
   "id": "87d9423e",
   "metadata": {},
   "outputs": [],
   "source": [
    "competitions = [\n",
    "    ['HTML', 'C#'],\n",
    "    ['C#', 'Python'],\n",
    "    ['Python', 'HTML']\n",
    "] # in the form of [homeTeam, awayTeam]\n",
    "\n",
    "results = [0,0,1]\n",
    "# 1 = home team won, #0 = away team won\n",
    "# there will be at least 2 rounds of competitions and there is guaranteed to be a winner\n",
    "# do not know the # of competitions beforehand\n"
   ]
  },
  {
   "cell_type": "code",
   "execution_count": 4,
   "id": "10a8b78e",
   "metadata": {},
   "outputs": [],
   "source": [
    "def tournamentResults(competitions, results):\n",
    "    scores = {} # instantiate an empty dict\n",
    "    currentWinner = '',0 # instantiate a value for currentWinner\n",
    "    for i in results:\n",
    "        if i == 0:\n",
    "            "
   ]
  },
  {
   "cell_type": "code",
   "execution_count": 5,
   "id": "45195acb",
   "metadata": {},
   "outputs": [
    {
     "name": "stdout",
     "output_type": "stream",
     "text": [
      "(['HTML', 'C#'], 0)\n",
      "(['C#', 'Python'], 0)\n",
      "(['Python', 'HTML'], 1)\n"
     ]
    }
   ],
   "source": [
    "tournamentResults(competitions, results)"
   ]
  },
  {
   "cell_type": "code",
   "execution_count": 29,
   "id": "0a48a8d3",
   "metadata": {},
   "outputs": [],
   "source": [
    "def tournanmentResult(competitions, results):\n",
    "    winners = []\n",
    "    for i in range(len(results)):\n",
    "        if results[i] == 0:\n",
    "            winners.append(competitions[i][1])\n",
    "            print(f'The home team {competitions[i][1]} won!')\n",
    "        else:\n",
    "            winners.append(competitions[i][0])\n",
    "            print(f'The away team {competitions[i][0]} won!')\n",
    "    return winners, max(set(winners))"
   ]
  },
  {
   "cell_type": "code",
   "execution_count": 30,
   "id": "4d2c1729",
   "metadata": {},
   "outputs": [
    {
     "name": "stdout",
     "output_type": "stream",
     "text": [
      "The home team C# won!\n",
      "The home team Python won!\n",
      "The away team Python won!\n"
     ]
    },
    {
     "data": {
      "text/plain": [
       "(['C#', 'Python', 'Python'], 'Python')"
      ]
     },
     "execution_count": 30,
     "metadata": {},
     "output_type": "execute_result"
    }
   ],
   "source": [
    "tournanmentResult(competitions, results)"
   ]
  },
  {
   "cell_type": "code",
   "execution_count": null,
   "id": "df750f2a",
   "metadata": {},
   "outputs": [],
   "source": []
  }
 ],
 "metadata": {
  "kernelspec": {
   "display_name": "Python 3 (ipykernel)",
   "language": "python",
   "name": "python3"
  },
  "language_info": {
   "codemirror_mode": {
    "name": "ipython",
    "version": 3
   },
   "file_extension": ".py",
   "mimetype": "text/x-python",
   "name": "python",
   "nbconvert_exporter": "python",
   "pygments_lexer": "ipython3",
   "version": "3.10.8"
  }
 },
 "nbformat": 4,
 "nbformat_minor": 5
}
