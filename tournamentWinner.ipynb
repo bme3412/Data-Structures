{
 "cells": [
  {
   "cell_type": "code",
   "execution_count": 3,
   "id": "33cf78ce",
   "metadata": {},
   "outputs": [],
   "source": [
    "competitions = [\n",
    "    ['HTML', 'C#'],\n",
    "    ['C#', 'Python'],\n",
    "    ['Python', 'HTML']\n",
    "] # in the form of [homeTeam, awayTeam]\n",
    "\n",
    "results = [0,0,1]\n",
    "# 1 = home team won, #0 = away team won\n",
    "# there will be at least 2 rounds of competitions and there is guaranteed to be a winner\n",
    "# do not know the # of competitions beforehand\n"
   ]
  },
  {
   "cell_type": "code",
   "execution_count": 83,
   "id": "5b579f2a",
   "metadata": {},
   "outputs": [],
   "source": [
    "def tournamentWinner(competitions, results):\n",
    "    teamPoints = {} # instantiate an empty dictioanry\n",
    "    currentWinner = '',0 # instantiate an empty winners tuple with \"blank', 0\"\n",
    "    \n",
    "    for competition, result in zip(competitions, results):\n",
    "        winner = competition[not result] # determine winner \n",
    "        loser = competition[result] # determine loser\n",
    "        \n",
    "        if winner not in teamPoints: teamPoints[winner] = 0 # instantiate\n",
    "        teamPoints[winner]+=3 # add points\n",
    "        \n",
    "        if teamPoints[winner] > currentWinner[1]: # if score of the winner > current Winner\n",
    "            currentWinner = winner, teamPoints[winner] # declare new winner\n",
    "    return currentWinner[0] # return winner of the tuple 1st value"
   ]
  },
  {
   "cell_type": "code",
   "execution_count": 84,
   "id": "aae62ffa",
   "metadata": {},
   "outputs": [
    {
     "data": {
      "text/plain": [
       "'Python'"
      ]
     },
     "execution_count": 84,
     "metadata": {},
     "output_type": "execute_result"
    }
   ],
   "source": [
    "tournamentWinner(competitions, results)"
   ]
  },
  {
   "cell_type": "markdown",
   "id": "e2188621",
   "metadata": {},
   "source": [
    "### In Python, the for `i` in `range(len(list_of_items)):` loop iterates through the indices of the list list_of_items rather than the items themselves. \n",
    "### Inside the loop, you can access each item of the list using `list_of_items[i].`\n",
    "\n",
    "\n"
   ]
  },
  {
   "cell_type": "code",
   "execution_count": 55,
   "id": "de2c6353",
   "metadata": {},
   "outputs": [
    {
     "name": "stdout",
     "output_type": "stream",
     "text": [
      "[0, 0, 1]\n"
     ]
    }
   ],
   "source": [
    "print(results)"
   ]
  },
  {
   "cell_type": "code",
   "execution_count": 24,
   "id": "cf4fd40e",
   "metadata": {},
   "outputs": [
    {
     "data": {
      "text/plain": [
       "list"
      ]
     },
     "execution_count": 24,
     "metadata": {},
     "output_type": "execute_result"
    }
   ],
   "source": [
    "type(results)"
   ]
  },
  {
   "cell_type": "code",
   "execution_count": 27,
   "id": "279e4538",
   "metadata": {},
   "outputs": [
    {
     "name": "stdout",
     "output_type": "stream",
     "text": [
      "0\n",
      "0\n",
      "1\n"
     ]
    }
   ],
   "source": [
    "for i in results:\n",
    "    print(i)"
   ]
  },
  {
   "cell_type": "code",
   "execution_count": null,
   "id": "bfbab13a",
   "metadata": {},
   "outputs": [],
   "source": []
  }
 ],
 "metadata": {
  "kernelspec": {
   "display_name": "Python 3 (ipykernel)",
   "language": "python",
   "name": "python3"
  },
  "language_info": {
   "codemirror_mode": {
    "name": "ipython",
    "version": 3
   },
   "file_extension": ".py",
   "mimetype": "text/x-python",
   "name": "python",
   "nbconvert_exporter": "python",
   "pygments_lexer": "ipython3",
   "version": "3.10.8"
  }
 },
 "nbformat": 4,
 "nbformat_minor": 5
}
