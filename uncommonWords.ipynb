{
 "cells": [
  {
   "cell_type": "code",
   "execution_count": 26,
   "id": "241fd07b-fba7-46d0-bec8-e2194015ba5f",
   "metadata": {},
   "outputs": [],
   "source": [
    "## Given two strings representing sentences\n",
    "## return the words that are not common to both strings (i.e. the words that only appear in one of the sentences). \n",
    "## You may assume that each sentence is a sequence of words (without punctuation) correctly separated using space characters.\n"
   ]
  },
  {
   "cell_type": "code",
   "execution_count": 27,
   "id": "1f231100-3684-429f-8cbb-bc3dbdb59023",
   "metadata": {},
   "outputs": [],
   "source": [
    "sentence1a = \"the quick\"\n",
    "sentence1b = \"brown fox\"\n",
    "sentence2a = \"the tortoise beat the haire\"\n",
    "sentence2b = \"the tortoise lost to the haire\"\n",
    "sentence3a = \"copper coffee pot\"\n",
    "sentence3b = \"hot coffee pot\""
   ]
  },
  {
   "cell_type": "code",
   "execution_count": null,
   "id": "b454ff22-b957-4c74-b11a-59b7d4237b71",
   "metadata": {},
   "outputs": [],
   "source": []
  },
  {
   "cell_type": "code",
   "execution_count": 39,
   "id": "2e68a91f-1349-49da-9d4c-f5ee3c2fc84d",
   "metadata": {},
   "outputs": [],
   "source": [
    "def uncommonWords(sent1, sent2):\n",
    "    string1_dict = {word:index for index, word in enumerate(sent1.split())}\n",
    "    string2_dict = {word:index for index, word in enumerate(sent2.split())}\n",
    "    unique_words = {}\n",
    "    for key in string1_dict.keys():\n",
    "        if key not in string2_dict.keys():\n",
    "            unique_words[key] = key\n",
    "    for key in string2_dict.keys():\n",
    "        if key not in string1_dict.keys():\n",
    "            unique_words[key] = key\n",
    "    \n",
    "    return list(set((unique_words)))"
   ]
  },
  {
   "cell_type": "code",
   "execution_count": 40,
   "id": "2bad0a44-b352-4b6b-8120-900114850b8a",
   "metadata": {},
   "outputs": [
    {
     "data": {
      "text/plain": [
       "['quick', 'the', 'fox', 'brown']"
      ]
     },
     "execution_count": 40,
     "metadata": {},
     "output_type": "execute_result"
    }
   ],
   "source": [
    "uncommonWords(sentence1a, sentence1b)"
   ]
  },
  {
   "cell_type": "code",
   "execution_count": 41,
   "id": "21de80f0-7794-4a8f-adbb-d99ee26f22f5",
   "metadata": {},
   "outputs": [
    {
     "data": {
      "text/plain": [
       "['beat', 'to', 'lost']"
      ]
     },
     "execution_count": 41,
     "metadata": {},
     "output_type": "execute_result"
    }
   ],
   "source": [
    "uncommonWords(sentence2a, sentence2b)"
   ]
  },
  {
   "cell_type": "code",
   "execution_count": 42,
   "id": "ac76b625-3f0f-47ed-acc2-868b3463e06b",
   "metadata": {},
   "outputs": [
    {
     "data": {
      "text/plain": [
       "['copper', 'hot']"
      ]
     },
     "execution_count": 42,
     "metadata": {},
     "output_type": "execute_result"
    }
   ],
   "source": [
    "uncommonWords(sentence3a, sentence3b)"
   ]
  },
  {
   "cell_type": "code",
   "execution_count": null,
   "id": "3d1121fd-032e-4a46-b5da-1fe4f0e55b13",
   "metadata": {},
   "outputs": [],
   "source": []
  }
 ],
 "metadata": {
  "kernelspec": {
   "display_name": "Python 3 (ipykernel)",
   "language": "python",
   "name": "python3"
  },
  "language_info": {
   "codemirror_mode": {
    "name": "ipython",
    "version": 3
   },
   "file_extension": ".py",
   "mimetype": "text/x-python",
   "name": "python",
   "nbconvert_exporter": "python",
   "pygments_lexer": "ipython3",
   "version": "3.10.8"
  }
 },
 "nbformat": 4,
 "nbformat_minor": 5
}
