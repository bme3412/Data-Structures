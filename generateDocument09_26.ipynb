{
 "cells": [
  {
   "cell_type": "code",
   "execution_count": 11,
   "id": "957dad95-3989-445c-997d-2d627c5bf5ee",
   "metadata": {},
   "outputs": [],
   "source": [
    "characters = \"a hsgalhsa sanbjksbdkjba kjx\"\n",
    "document = \" \"\n"
   ]
  },
  {
   "cell_type": "code",
   "execution_count": 6,
   "id": "dbe7eb9d-d0c5-4078-bc27-6f062f6b5e42",
   "metadata": {},
   "outputs": [],
   "source": [
    "# reutrn Boolean\n",
    "# determine if the frequency of unique characters in characters\n",
    "# is greater than or equal to the frequenyc of unique characters in document"
   ]
  },
  {
   "cell_type": "code",
   "execution_count": 7,
   "id": "26be8cf4-5153-4893-bde6-419cc07a1e4f",
   "metadata": {},
   "outputs": [],
   "source": [
    "def generateDocument(characters, document):\n",
    "    document_dict = {x:document.count(x) for x in document}\n",
    "    character_dict = {x:characters.count(x) for x in characters}\n",
    "    \n",
    "    if len(characters)>= len(document) and document !=0:\n",
    "        for i in document:\n",
    "            if i in characters and character_dict[i] >= document_dict[i]:\n",
    "                print(i, character_dict[i], document_dict[i])\n",
    "                return True\n",
    "    return False"
   ]
  },
  {
   "cell_type": "code",
   "execution_count": 12,
   "id": "449d610d-cd28-44d6-9bc4-b1e4eba0e3db",
   "metadata": {},
   "outputs": [
    {
     "name": "stdout",
     "output_type": "stream",
     "text": [
      "  3 1\n"
     ]
    },
    {
     "data": {
      "text/plain": [
       "True"
      ]
     },
     "execution_count": 12,
     "metadata": {},
     "output_type": "execute_result"
    }
   ],
   "source": [
    "generateDocument(characters, document)"
   ]
  },
  {
   "cell_type": "code",
   "execution_count": 13,
   "id": "e9b001f0-e5aa-4d90-ba68-274a40ca1502",
   "metadata": {},
   "outputs": [
    {
     "data": {
      "text/plain": [
       "' '"
      ]
     },
     "execution_count": 13,
     "metadata": {},
     "output_type": "execute_result"
    }
   ],
   "source": [
    "document"
   ]
  },
  {
   "cell_type": "code",
   "execution_count": 14,
   "id": "fdee9455-f7b4-4fd4-8cd5-45eb746fa5a2",
   "metadata": {},
   "outputs": [
    {
     "data": {
      "text/plain": [
       "1"
      ]
     },
     "execution_count": 14,
     "metadata": {},
     "output_type": "execute_result"
    }
   ],
   "source": [
    "len(document)"
   ]
  },
  {
   "cell_type": "code",
   "execution_count": 17,
   "id": "6a8a8be7-059e-47ef-b6b6-218598e8d10d",
   "metadata": {},
   "outputs": [],
   "source": [
    "def genDocument(characters, document):\n",
    "    for letter in document:\n",
    "        try:\n",
    "            characters.remove(letter)\n",
    "        except:\n",
    "            return False\n",
    "    return True"
   ]
  },
  {
   "cell_type": "code",
   "execution_count": 18,
   "id": "887a2120-f98f-4d68-b8b3-6f72898de106",
   "metadata": {},
   "outputs": [
    {
     "data": {
      "text/plain": [
       "False"
      ]
     },
     "execution_count": 18,
     "metadata": {},
     "output_type": "execute_result"
    }
   ],
   "source": [
    "genDocument(characters, document)"
   ]
  },
  {
   "cell_type": "code",
   "execution_count": null,
   "id": "ceb29ca5-5008-4128-8969-74c8507ac2a4",
   "metadata": {},
   "outputs": [],
   "source": [
    "def genDocument_(characters, document):\n",
    "    "
   ]
  }
 ],
 "metadata": {
  "kernelspec": {
   "display_name": "Python 3 (ipykernel)",
   "language": "python",
   "name": "python3"
  },
  "language_info": {
   "codemirror_mode": {
    "name": "ipython",
    "version": 3
   },
   "file_extension": ".py",
   "mimetype": "text/x-python",
   "name": "python",
   "nbconvert_exporter": "python",
   "pygments_lexer": "ipython3",
   "version": "3.10.8"
  }
 },
 "nbformat": 4,
 "nbformat_minor": 5
}
