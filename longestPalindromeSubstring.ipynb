{
 "cells": [
  {
   "cell_type": "code",
   "execution_count": 137,
   "id": "20f87050-3f80-4d3f-b434-8b2f44db2884",
   "metadata": {},
   "outputs": [],
   "source": [
    "string = \"it's highnoon\""
   ]
  },
  {
   "cell_type": "code",
   "execution_count": 138,
   "id": "c6ffc427-4ba8-4c2a-84cf-f13602d751dd",
   "metadata": {},
   "outputs": [],
   "source": [
    "def longPalindrome(string):\n",
    "    palindrome = []\n",
    "    if len(string)==1:\n",
    "        palindrome.append(string)\n",
    "    if string == string[::-1]:\n",
    "        return string\n",
    "    for i in range(len(string)):\n",
    "        #firstLetter = string[i]\n",
    "        #print(string[i])\n",
    "        for j in range(i+1,len(string)):\n",
    "            if string[i:j]==string[i:j][::-1]:\n",
    "                palindrome.append(string[i:j])\n",
    "    palindrome_length = [(len(word), i, word) for i, word in enumerate(palindrome)]\n",
    "    return max(palindrome_length)[2]"
   ]
  },
  {
   "cell_type": "code",
   "execution_count": 139,
   "id": "6b756375-24d2-4752-a590-f8aa779eb744",
   "metadata": {},
   "outputs": [
    {
     "data": {
      "text/plain": [
       "'oo'"
      ]
     },
     "execution_count": 139,
     "metadata": {},
     "output_type": "execute_result"
    }
   ],
   "source": [
    "longPalindrome(string)"
   ]
  },
  {
   "cell_type": "code",
   "execution_count": 134,
   "id": "92df01a4-5f8c-4f6b-bf81-2e52a73c464c",
   "metadata": {},
   "outputs": [
    {
     "data": {
      "text/plain": [
       "20"
      ]
     },
     "execution_count": 134,
     "metadata": {},
     "output_type": "execute_result"
    }
   ],
   "source": [
    "len('zzzzzzzzzzzzzzzzzzzz')"
   ]
  },
  {
   "cell_type": "code",
   "execution_count": 131,
   "id": "f1c69235-90c7-438f-a28e-b53cf3658ede",
   "metadata": {},
   "outputs": [
    {
     "data": {
      "text/plain": [
       "13"
      ]
     },
     "execution_count": 131,
     "metadata": {},
     "output_type": "execute_result"
    }
   ],
   "source": [
    "len('abcdefgfedcba')"
   ]
  },
  {
   "cell_type": "code",
   "execution_count": null,
   "id": "ba264455-15e1-4261-b8b8-e87d273f88e4",
   "metadata": {},
   "outputs": [],
   "source": []
  }
 ],
 "metadata": {
  "kernelspec": {
   "display_name": "Python 3 (ipykernel)",
   "language": "python",
   "name": "python3"
  },
  "language_info": {
   "codemirror_mode": {
    "name": "ipython",
    "version": 3
   },
   "file_extension": ".py",
   "mimetype": "text/x-python",
   "name": "python",
   "nbconvert_exporter": "python",
   "pygments_lexer": "ipython3",
   "version": "3.10.8"
  }
 },
 "nbformat": 4,
 "nbformat_minor": 5
}
