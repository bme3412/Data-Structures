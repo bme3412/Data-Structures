{
 "cells": [
  {
   "cell_type": "code",
   "execution_count": 1,
   "id": "4a50dd58-096c-46a6-a1b1-684d94d10296",
   "metadata": {},
   "outputs": [],
   "source": [
    "## write a function that takes in a non-empty array of distinct integers\n",
    "## and an integer representing a target sum\n",
    "# if any 2 numbers in the input array sum to the target sum, reutnr in an array\n",
    "# if no number sum, return an empty array"
   ]
  },
  {
   "cell_type": "code",
   "execution_count": 3,
   "id": "4ac0affc-ad6c-41b3-b128-89f1dda7688f",
   "metadata": {},
   "outputs": [],
   "source": [
    "input = [3,5,-4,8,11,1,-1,6]\n",
    "targetSum = 10"
   ]
  },
  {
   "cell_type": "code",
   "execution_count": 13,
   "id": "b9fcb8f6-87ae-4a8b-9d61-0dd1ea735a44",
   "metadata": {},
   "outputs": [],
   "source": [
    "def twoNumberSum(input, targetSum):\n",
    "    for i in range(len(input)-1):\n",
    "        firstNum = input[i]\n",
    "        for j in range(i+1,len(input)): # shift the starting range\n",
    "            secondNum = input[j]\n",
    "            if firstNum + secondNum == targetSum:\n",
    "                return [firstNum, secondNum]\n",
    "    return []"
   ]
  },
  {
   "cell_type": "code",
   "execution_count": 14,
   "id": "50db1635-0fc4-4729-8675-4ba8f32b61af",
   "metadata": {},
   "outputs": [
    {
     "data": {
      "text/plain": [
       "[11, -1]"
      ]
     },
     "execution_count": 14,
     "metadata": {},
     "output_type": "execute_result"
    }
   ],
   "source": [
    "twoNumberSum(input, targetSum)"
   ]
  },
  {
   "cell_type": "code",
   "execution_count": 19,
   "id": "1e2c2695-428f-4052-8b47-45d7b41f9acb",
   "metadata": {},
   "outputs": [],
   "source": [
    "def twoNumberSum2(array, targetSum):\n",
    "    myset = set(array)\n",
    "    for num in myset:\n",
    "        secondNum = targetSum - num\n",
    "        if secondNum != num and secondNum in myset: # disntict integer\n",
    "            return [num, secondNum]\n",
    "    return []"
   ]
  },
  {
   "cell_type": "code",
   "execution_count": 20,
   "id": "83fec660-aae1-47c1-b775-b56bf6d1c309",
   "metadata": {},
   "outputs": [
    {
     "data": {
      "text/plain": [
       "[11, -1]"
      ]
     },
     "execution_count": 20,
     "metadata": {},
     "output_type": "execute_result"
    }
   ],
   "source": [
    "twoNumberSum2(input, targetSum)"
   ]
  },
  {
   "cell_type": "code",
   "execution_count": null,
   "id": "7a0a716f-9824-4783-ac68-d7c7ceba493a",
   "metadata": {},
   "outputs": [],
   "source": []
  }
 ],
 "metadata": {
  "kernelspec": {
   "display_name": "Python 3 (ipykernel)",
   "language": "python",
   "name": "python3"
  },
  "language_info": {
   "codemirror_mode": {
    "name": "ipython",
    "version": 3
   },
   "file_extension": ".py",
   "mimetype": "text/x-python",
   "name": "python",
   "nbconvert_exporter": "python",
   "pygments_lexer": "ipython3",
   "version": "3.10.8"
  }
 },
 "nbformat": 4,
 "nbformat_minor": 5
}
