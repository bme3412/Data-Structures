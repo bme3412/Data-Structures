{
 "cells": [
  {
   "cell_type": "code",
   "execution_count": 1,
   "id": "77e63447",
   "metadata": {},
   "outputs": [],
   "source": [
    "# Prompt: determine if given a list of integers, and a smaller list of integers \n",
    "# if the 2nd list is a subset of the 1st\n",
    "\n",
    "# not being asked to return an array"
   ]
  },
  {
   "cell_type": "code",
   "execution_count": 32,
   "id": "3a737b27",
   "metadata": {},
   "outputs": [],
   "source": [
    "array = [2, 2, 3, 4, 7, 8, 9, 5]\n",
    "subset = [2,4,5]\n",
    "\n"
   ]
  },
  {
   "cell_type": "code",
   "execution_count": 33,
   "id": "556c2c75",
   "metadata": {},
   "outputs": [],
   "source": [
    "def is_subSequence(array, subset):\n",
    "    j = 0 # instantiate the object - creating a pointer\n",
    "    for i in array: # for each of the elements in the large array\n",
    "        if j == len(subset): # if j - which is essentially a counter == length of the 2nd array - then stop/proceed\n",
    "            break\n",
    "        print(i,j)\n",
    "        if i == subset[j]: # on/off function continuous - if the element matches the element in the array at index, then +1\n",
    "            j +=1\n",
    "    return j == len(subset)\n",
    "    "
   ]
  },
  {
   "cell_type": "code",
   "execution_count": 34,
   "id": "18ca6a6c",
   "metadata": {},
   "outputs": [
    {
     "name": "stdout",
     "output_type": "stream",
     "text": [
      "2 0\n",
      "2 1\n",
      "3 1\n",
      "4 1\n",
      "7 2\n",
      "8 2\n",
      "9 2\n",
      "5 2\n"
     ]
    },
    {
     "data": {
      "text/plain": [
       "True"
      ]
     },
     "execution_count": 34,
     "metadata": {},
     "output_type": "execute_result"
    }
   ],
   "source": [
    "is_subSequence(array,subset)"
   ]
  },
  {
   "cell_type": "code",
   "execution_count": null,
   "id": "7d42792e",
   "metadata": {},
   "outputs": [],
   "source": [
    "# summary: traverse/compare using the counter as the index location in the smaller array/and count then compare\n",
    "# instantiate a running counter, set to 0\n",
    "# then traverse the longer list\n",
    "# if fucnction where if for each element in longer array, if eleemnt matches with the index positon of the smallar araay\n",
    "# then add +1 to the coutner, whcih traverses the smaller_array index\n",
    "# then at the end detemrine if j - the counter/index to be traversed by - is the same length as the smaller array\n",
    "# implicaiton would be that smaller_array is exhausted and there is a subsequence"
   ]
  }
 ],
 "metadata": {
  "kernelspec": {
   "display_name": "Python 3 (ipykernel)",
   "language": "python",
   "name": "python3"
  },
  "language_info": {
   "codemirror_mode": {
    "name": "ipython",
    "version": 3
   },
   "file_extension": ".py",
   "mimetype": "text/x-python",
   "name": "python",
   "nbconvert_exporter": "python",
   "pygments_lexer": "ipython3",
   "version": "3.8.15"
  }
 },
 "nbformat": 4,
 "nbformat_minor": 5
}
