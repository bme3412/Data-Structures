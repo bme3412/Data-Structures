{
 "cells": [
  {
   "cell_type": "code",
   "execution_count": 1,
   "id": "43909d9d-0ea4-4836-9228-b82712e8ebde",
   "metadata": {},
   "outputs": [],
   "source": [
    "# return a list of charactesrs common to all in the set"
   ]
  },
  {
   "cell_type": "code",
   "execution_count": 3,
   "id": "f75e8505-1980-471e-adf6-bffcc3094c56",
   "metadata": {},
   "outputs": [],
   "source": [
    "strings = ['abc', 'bcd', 'cbaccd']"
   ]
  },
  {
   "cell_type": "code",
   "execution_count": 177,
   "id": "ffc968fb-6187-4e97-96e3-62b34db7c2c2",
   "metadata": {},
   "outputs": [],
   "source": [
    "def commonCharacters(string):\n",
    "    dict = {}\n",
    "\n",
    "    for word in string:\n",
    "        for letter in word:\n",
    "            dict[word] = {letter:letter.count(letter) for letter in word}\n",
    "    common_values = set(dict[list(dict.keys())[0]].keys())\n",
    "    for word in dict.values():\n",
    "        common_values &= set(word.keys())\n",
    "    return list(common_values)"
   ]
  },
  {
   "cell_type": "code",
   "execution_count": 178,
   "id": "39287a94-74ec-4e97-b899-e85505a74fb9",
   "metadata": {},
   "outputs": [
    {
     "data": {
      "text/plain": [
       "['c', 'b']"
      ]
     },
     "execution_count": 178,
     "metadata": {},
     "output_type": "execute_result"
    }
   ],
   "source": [
    "commonCharacters(strings)"
   ]
  },
  {
   "cell_type": "code",
   "execution_count": null,
   "id": "98de479d-de4d-449f-9fea-08321177082a",
   "metadata": {},
   "outputs": [],
   "source": []
  }
 ],
 "metadata": {
  "kernelspec": {
   "display_name": "Python 3 (ipykernel)",
   "language": "python",
   "name": "python3"
  },
  "language_info": {
   "codemirror_mode": {
    "name": "ipython",
    "version": 3
   },
   "file_extension": ".py",
   "mimetype": "text/x-python",
   "name": "python",
   "nbconvert_exporter": "python",
   "pygments_lexer": "ipython3",
   "version": "3.10.8"
  }
 },
 "nbformat": 4,
 "nbformat_minor": 5
}
