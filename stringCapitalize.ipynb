{
 "cells": [
  {
   "cell_type": "code",
   "execution_count": 27,
   "id": "b4f818bd",
   "metadata": {},
   "outputs": [],
   "source": [
    "def solve(s):\n",
    "    strings = s.split()\n",
    "    first_name = strings[0].title()\n",
    "    last_name = strings[1].title()\n",
    "    return first_name + ' ' + last_name"
   ]
  },
  {
   "cell_type": "code",
   "execution_count": 28,
   "id": "0b663a6a",
   "metadata": {},
   "outputs": [],
   "source": [
    "name = 'lionel logue'"
   ]
  },
  {
   "cell_type": "code",
   "execution_count": 29,
   "id": "db1c75ac",
   "metadata": {},
   "outputs": [
    {
     "data": {
      "text/plain": [
       "'Lionel Logue'"
      ]
     },
     "execution_count": 29,
     "metadata": {},
     "output_type": "execute_result"
    }
   ],
   "source": [
    "solve(name)"
   ]
  },
  {
   "cell_type": "code",
   "execution_count": 47,
   "id": "1bc41671",
   "metadata": {},
   "outputs": [],
   "source": [
    "def stringTitle(s):\n",
    "    strings = s.split()\n",
    "    number_words = len(strings)\n",
    "    \n",
    "    first_name = strings[0].title()\n",
    "    if number_words == 2:\n",
    "        last_name = strings[1].title()\n",
    "        return first_name + ' ' + last_name\n",
    "    if len(number_words) == 3:\n",
    "        middle_name = strings[1].title()\n",
    "        last_name = strings[2].title()\n",
    "        return first_name + ' ' + middle_name + ' ' + last_name"
   ]
  },
  {
   "cell_type": "code",
   "execution_count": 48,
   "id": "478f031d",
   "metadata": {},
   "outputs": [
    {
     "data": {
      "text/plain": [
       "'Lionel Logue'"
      ]
     },
     "execution_count": 48,
     "metadata": {},
     "output_type": "execute_result"
    }
   ],
   "source": [
    "stringTitle(name)"
   ]
  },
  {
   "cell_type": "code",
   "execution_count": 49,
   "id": "ec384cf1",
   "metadata": {},
   "outputs": [],
   "source": [
    "def stringCapitalize(s):\n",
    "    s = s.split(' ')\n",
    "    return (\" \".join(i.capitalize() for i in s))\n",
    "\n",
    "        "
   ]
  },
  {
   "cell_type": "code",
   "execution_count": 50,
   "id": "bab698c8",
   "metadata": {},
   "outputs": [
    {
     "data": {
      "text/plain": [
       "'Lionel Logue'"
      ]
     },
     "execution_count": 50,
     "metadata": {},
     "output_type": "execute_result"
    }
   ],
   "source": [
    "stringCapitalize(name)"
   ]
  },
  {
   "cell_type": "code",
   "execution_count": null,
   "id": "93efa4e5",
   "metadata": {},
   "outputs": [],
   "source": []
  }
 ],
 "metadata": {
  "kernelspec": {
   "display_name": "Python 3 (ipykernel)",
   "language": "python",
   "name": "python3"
  },
  "language_info": {
   "codemirror_mode": {
    "name": "ipython",
    "version": 3
   },
   "file_extension": ".py",
   "mimetype": "text/x-python",
   "name": "python",
   "nbconvert_exporter": "python",
   "pygments_lexer": "ipython3",
   "version": "3.10.8"
  }
 },
 "nbformat": 4,
 "nbformat_minor": 5
}
