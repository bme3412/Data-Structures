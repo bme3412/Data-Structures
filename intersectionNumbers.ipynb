{
 "cells": [
  {
   "cell_type": "code",
   "execution_count": 2,
   "id": "06dbda93-7bed-42b7-abba-65ac880f1dbc",
   "metadata": {},
   "outputs": [],
   "source": [
    "nums1 = [2, 4, 4, 2] \n",
    "nums_1 = [2, 4] #return [2, 4]\n",
    "nums2 = [1, 2, 3, 3] \n",
    "nums_2 = [3, 3] #return [3]\n",
    "nums3 = [2, 4, 6, 8] \n",
    "nums_3 = [1, 3, 5, 7] # return []"
   ]
  },
  {
   "cell_type": "code",
   "execution_count": 38,
   "id": "b57335ee-defc-44d4-a4ac-7ec922267852",
   "metadata": {},
   "outputs": [],
   "source": [
    "def intersection_numbers(num_long, num_short):\n",
    "    match = []\n",
    "    for i in range(len(num_short)):\n",
    "        if num_short[i] == num_long[i]:\n",
    "            print(num_long[i], num_short[i])\n",
    "            match.append(i)\n",
    "        else:\n",
    "            i +1\n",
    "    return (match)\n"
   ]
  },
  {
   "cell_type": "code",
   "execution_count": 39,
   "id": "c17a137d-ca0b-459b-a005-782e1cecefa9",
   "metadata": {},
   "outputs": [
    {
     "name": "stdout",
     "output_type": "stream",
     "text": [
      "2 2\n",
      "4 4\n"
     ]
    },
    {
     "data": {
      "text/plain": [
       "[0, 1]"
      ]
     },
     "execution_count": 39,
     "metadata": {},
     "output_type": "execute_result"
    }
   ],
   "source": [
    "intersection_numbers(nums1, nums_1)"
   ]
  },
  {
   "cell_type": "code",
   "execution_count": 40,
   "id": "06956ce1-b9bc-4e90-92a4-f8a19388f9a5",
   "metadata": {},
   "outputs": [
    {
     "data": {
      "text/plain": [
       "[]"
      ]
     },
     "execution_count": 40,
     "metadata": {},
     "output_type": "execute_result"
    }
   ],
   "source": [
    "intersection_numbers(nums2, nums_2)"
   ]
  },
  {
   "cell_type": "code",
   "execution_count": 41,
   "id": "09e249f7-53b7-4978-b885-84367cf071d3",
   "metadata": {},
   "outputs": [
    {
     "data": {
      "text/plain": [
       "[]"
      ]
     },
     "execution_count": 41,
     "metadata": {},
     "output_type": "execute_result"
    }
   ],
   "source": [
    "intersection_numbers(nums3, nums_3)"
   ]
  },
  {
   "cell_type": "code",
   "execution_count": 42,
   "id": "fcbe69d2-47c2-446f-b8bc-7466d4f8231e",
   "metadata": {},
   "outputs": [],
   "source": [
    "nums1 = [2, 4, 4, 2] \n",
    "nums_1 = [2, 4] #return [2, 4]\n",
    "nums2 = [1, 2, 3, 3] \n",
    "nums_2 = [3, 3] #return [3]\n",
    "nums3 = [2, 4, 6, 8] \n",
    "nums_3 = [1, 3, 5, 7] # return []"
   ]
  },
  {
   "cell_type": "code",
   "execution_count": 77,
   "id": "b352abb4-678c-49fb-bf80-37c35324a5f3",
   "metadata": {},
   "outputs": [],
   "source": [
    "def intersectionNumbers2(num_long, num_short):\n",
    "    match = []\n",
    "    for i in num_short:\n",
    "        for x in num_long:\n",
    "            if i == x:\n",
    "                match.append(x)\n",
    "            else:\n",
    "                x+=1\n",
    "    return list(set(match))"
   ]
  },
  {
   "cell_type": "code",
   "execution_count": 78,
   "id": "6b99aee6-126b-458e-a047-726ca039112c",
   "metadata": {},
   "outputs": [
    {
     "data": {
      "text/plain": [
       "[2, 4]"
      ]
     },
     "execution_count": 78,
     "metadata": {},
     "output_type": "execute_result"
    }
   ],
   "source": [
    "intersectionNumbers2(nums1, nums_1)"
   ]
  },
  {
   "cell_type": "code",
   "execution_count": 79,
   "id": "be5132ef-4003-4fc7-be9e-8c64f6fc81de",
   "metadata": {},
   "outputs": [
    {
     "data": {
      "text/plain": [
       "[3]"
      ]
     },
     "execution_count": 79,
     "metadata": {},
     "output_type": "execute_result"
    }
   ],
   "source": [
    "intersectionNumbers2(nums2, nums_2)"
   ]
  },
  {
   "cell_type": "code",
   "execution_count": 80,
   "id": "f69221db-e838-4c2b-a830-c07db3eafb56",
   "metadata": {},
   "outputs": [
    {
     "data": {
      "text/plain": [
       "[]"
      ]
     },
     "execution_count": 80,
     "metadata": {},
     "output_type": "execute_result"
    }
   ],
   "source": [
    "intersectionNumbers2(nums3, nums_3)"
   ]
  },
  {
   "cell_type": "code",
   "execution_count": null,
   "id": "16c61123-8586-495b-b372-505752644df9",
   "metadata": {},
   "outputs": [],
   "source": []
  }
 ],
 "metadata": {
  "kernelspec": {
   "display_name": "Python 3 (ipykernel)",
   "language": "python",
   "name": "python3"
  },
  "language_info": {
   "codemirror_mode": {
    "name": "ipython",
    "version": 3
   },
   "file_extension": ".py",
   "mimetype": "text/x-python",
   "name": "python",
   "nbconvert_exporter": "python",
   "pygments_lexer": "ipython3",
   "version": "3.10.8"
  }
 },
 "nbformat": 4,
 "nbformat_minor": 5
}
