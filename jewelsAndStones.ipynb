{
 "cells": [
  {
   "cell_type": "code",
   "execution_count": 12,
   "id": "735b8a4b-de94-4a0b-92b2-3cbbf8ef2fb2",
   "metadata": {},
   "outputs": [],
   "source": [
    "jewels1 = \"abc\"\n",
    "stones1 = \"ac\" #return 2\n",
    "\n",
    "jewels2 = \"Af\"\n",
    "stones2 = \"AaaddfFf\" #return 3\n",
    "\n",
    "jewels3 = \"AYOPD\"\n",
    "stones3 = \"ayopd\" #return 0"
   ]
  },
  {
   "cell_type": "code",
   "execution_count": 3,
   "id": "e67358db-d730-41df-988d-1d31c5da8f4d",
   "metadata": {},
   "outputs": [],
   "source": [
    "# Given a string representing your stones and another string representing a list of jewels\n",
    "# return the number of stones that you have that are also jewels. \n"
   ]
  },
  {
   "cell_type": "code",
   "execution_count": 28,
   "id": "c0a7628b-3bc7-4540-9fb0-3c11b9b9a1e3",
   "metadata": {},
   "outputs": [],
   "source": [
    "def jewelsAndStones(jewels, stones):\n",
    "    dict_jewel = {i:jewels.count(i) for i in jewels } #create dictionart\n",
    "    dict_stones = {x:stones.count(x) for x in stones} # create dictionary\n",
    "    overlap = [] # create list for overlap\n",
    "    for item in dict_stones.keys():\n",
    "        if item in dict_jewel.keys():\n",
    "            overlap.append(item)\n",
    "    return len(overlap)"
   ]
  },
  {
   "cell_type": "code",
   "execution_count": 29,
   "id": "4e40a51f-430d-4ecc-9751-cb5ee248a7df",
   "metadata": {},
   "outputs": [
    {
     "data": {
      "text/plain": [
       "2"
      ]
     },
     "execution_count": 29,
     "metadata": {},
     "output_type": "execute_result"
    }
   ],
   "source": [
    "jewelsAndStones(jewels1, stones1)"
   ]
  },
  {
   "cell_type": "code",
   "execution_count": 24,
   "id": "02a9334c-9354-4546-a843-fce3700b2a12",
   "metadata": {},
   "outputs": [
    {
     "data": {
      "text/plain": [
       "2"
      ]
     },
     "execution_count": 24,
     "metadata": {},
     "output_type": "execute_result"
    }
   ],
   "source": [
    "jewelsAndStones(jewels2, stones2)"
   ]
  },
  {
   "cell_type": "code",
   "execution_count": 25,
   "id": "ab331e9f-0322-4f24-b7c9-748d8b2c2076",
   "metadata": {},
   "outputs": [
    {
     "data": {
      "text/plain": [
       "0"
      ]
     },
     "execution_count": 25,
     "metadata": {},
     "output_type": "execute_result"
    }
   ],
   "source": [
    "jewelsAndStones(jewels3, stones3)"
   ]
  },
  {
   "cell_type": "code",
   "execution_count": null,
   "id": "028cae71-3680-4c57-9162-1edd834b7b7f",
   "metadata": {},
   "outputs": [],
   "source": []
  }
 ],
 "metadata": {
  "kernelspec": {
   "display_name": "Python 3 (ipykernel)",
   "language": "python",
   "name": "python3"
  },
  "language_info": {
   "codemirror_mode": {
    "name": "ipython",
    "version": 3
   },
   "file_extension": ".py",
   "mimetype": "text/x-python",
   "name": "python",
   "nbconvert_exporter": "python",
   "pygments_lexer": "ipython3",
   "version": "3.10.8"
  }
 },
 "nbformat": 4,
 "nbformat_minor": 5
}
