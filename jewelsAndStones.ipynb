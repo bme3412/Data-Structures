{
 "cells": [
  {
   "cell_type": "code",
   "execution_count": 12,
   "id": "735b8a4b-de94-4a0b-92b2-3cbbf8ef2fb2",
   "metadata": {},
   "outputs": [],
   "source": [
    "jewels1 = \"abc\"\n",
    "stones1 = \"ac\" #return 2\n",
    "\n",
    "jewels2 = \"Af\"\n",
    "stones2 = \"AaaddfFf\" #return 3\n",
    "\n",
    "jewels3 = \"AYOPD\"\n",
    "stones3 = \"ayopd\" #return 0"
   ]
  },
  {
   "cell_type": "code",
   "execution_count": 3,
   "id": "e67358db-d730-41df-988d-1d31c5da8f4d",
   "metadata": {},
   "outputs": [],
   "source": [
    "# Given a string representing your stones and another string representing a list of jewels\n",
    "# return the number of stones that you have that are also jewels. \n"
   ]
  },
  {
   "cell_type": "code",
   "execution_count": 68,
   "id": "c0a7628b-3bc7-4540-9fb0-3c11b9b9a1e3",
   "metadata": {},
   "outputs": [],
   "source": [
    "def jewelsAndStones(jewels, stones):\n",
    "    dict_jewel = {i:jewels.count(i) for i in jewels } #create dictionart\n",
    "    dict_stones = {x:stones.count(x) for x in stones} # create dictionary\n",
    "    overlap = [] # create list for overlap\n",
    "    for item in dict_stones.keys():\n",
    "        if item in dict_jewel.keys():\n",
    "            overlap.append(item)\n",
    "    return overlap"
   ]
  },
  {
   "cell_type": "code",
   "execution_count": 69,
   "id": "4e40a51f-430d-4ecc-9751-cb5ee248a7df",
   "metadata": {},
   "outputs": [
    {
     "data": {
      "text/plain": [
       "['a', 'c']"
      ]
     },
     "execution_count": 69,
     "metadata": {},
     "output_type": "execute_result"
    }
   ],
   "source": [
    "jewelsAndStones(jewels1, stones1)"
   ]
  },
  {
   "cell_type": "code",
   "execution_count": 67,
   "id": "02a9334c-9354-4546-a843-fce3700b2a12",
   "metadata": {},
   "outputs": [
    {
     "data": {
      "text/plain": [
       "(dict_values([1, 1]), dict_values([1, 2, 2, 2, 1]))"
      ]
     },
     "execution_count": 67,
     "metadata": {},
     "output_type": "execute_result"
    }
   ],
   "source": [
    "jewelsAndStones(jewels2, stones2)"
   ]
  },
  {
   "cell_type": "code",
   "execution_count": 36,
   "id": "ab331e9f-0322-4f24-b7c9-748d8b2c2076",
   "metadata": {},
   "outputs": [
    {
     "data": {
      "text/plain": [
       "[]"
      ]
     },
     "execution_count": 36,
     "metadata": {},
     "output_type": "execute_result"
    }
   ],
   "source": [
    "jewelsAndStones(jewels3, stones3)"
   ]
  },
  {
   "cell_type": "code",
   "execution_count": 82,
   "id": "028cae71-3680-4c57-9162-1edd834b7b7f",
   "metadata": {},
   "outputs": [],
   "source": [
    "def jewelsAndStones2(jewels, stones):\n",
    "    dict_jewel = {i:jewels.count(i) for i in jewels } #create dictionart\n",
    "    dict_stones = {x:stones.count(x) for x in stones} # create dictionary\n",
    "    overlap = [] # create list for overlap\n",
    "    for key, value in dict_stones.items():\n",
    "        return key, value"
   ]
  },
  {
   "cell_type": "code",
   "execution_count": 84,
   "id": "5951f01b-fb68-49e5-85c7-33a05f357797",
   "metadata": {},
   "outputs": [
    {
     "data": {
      "text/plain": [
       "('a', 1)"
      ]
     },
     "execution_count": 84,
     "metadata": {},
     "output_type": "execute_result"
    }
   ],
   "source": [
    "jewelsAndStones2(jewels1, stones1)"
   ]
  },
  {
   "cell_type": "code",
   "execution_count": 93,
   "id": "8a48f9ff-a42f-46c5-b50c-e56dbc75651d",
   "metadata": {},
   "outputs": [],
   "source": [
    "def sum_overlap(jewels, stones):\n",
    "    dict_jewel = {i:jewels.count(i) for i in jewels } #create dictionart\n",
    "    dict_stones = {x:stones.count(x) for x in stones} # create dictionary\n",
    "    sum_count = 0\n",
    "    for key in dict_stones:\n",
    "        if key in dict_jewel:\n",
    "            sum_count += dict_stones[key] \n",
    "    return sum_count\n",
    "    "
   ]
  },
  {
   "cell_type": "code",
   "execution_count": 94,
   "id": "75f9a1c2-a67f-4c0f-9755-bf6fb41f143f",
   "metadata": {},
   "outputs": [
    {
     "data": {
      "text/plain": [
       "2"
      ]
     },
     "execution_count": 94,
     "metadata": {},
     "output_type": "execute_result"
    }
   ],
   "source": [
    "sum_overlap(jewels1, stones1)"
   ]
  },
  {
   "cell_type": "code",
   "execution_count": 95,
   "id": "a69490da-3894-42e4-b633-8e6b8310551f",
   "metadata": {},
   "outputs": [
    {
     "data": {
      "text/plain": [
       "3"
      ]
     },
     "execution_count": 95,
     "metadata": {},
     "output_type": "execute_result"
    }
   ],
   "source": [
    "sum_overlap(jewels2, stones2)"
   ]
  },
  {
   "cell_type": "code",
   "execution_count": 96,
   "id": "b9c792cb-7638-49c9-b006-3c38bee66fb1",
   "metadata": {},
   "outputs": [
    {
     "data": {
      "text/plain": [
       "0"
      ]
     },
     "execution_count": 96,
     "metadata": {},
     "output_type": "execute_result"
    }
   ],
   "source": [
    "sum_overlap(jewels3, stones3)"
   ]
  },
  {
   "cell_type": "code",
   "execution_count": null,
   "id": "3145352a-508d-4ed1-a40e-f8630ff051c4",
   "metadata": {},
   "outputs": [],
   "source": []
  }
 ],
 "metadata": {
  "kernelspec": {
   "display_name": "Python 3 (ipykernel)",
   "language": "python",
   "name": "python3"
  },
  "language_info": {
   "codemirror_mode": {
    "name": "ipython",
    "version": 3
   },
   "file_extension": ".py",
   "mimetype": "text/x-python",
   "name": "python",
   "nbconvert_exporter": "python",
   "pygments_lexer": "ipython3",
   "version": "3.10.8"
  }
 },
 "nbformat": 4,
 "nbformat_minor": 5
}
