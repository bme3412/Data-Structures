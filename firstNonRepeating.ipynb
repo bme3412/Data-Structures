{
 "cells": [
  {
   "cell_type": "code",
   "execution_count": 1,
   "id": "595255ee-4d19-4241-9e8c-b61f108c97ca",
   "metadata": {},
   "outputs": [],
   "source": [
    "string = 'abcdcaf'"
   ]
  },
  {
   "cell_type": "code",
   "execution_count": 37,
   "id": "050bc1fb-e312-492e-a303-a436fc5d2dcb",
   "metadata": {},
   "outputs": [],
   "source": [
    "def nonRepeat(string):\n",
    "    string_dict = {x:string.count(x) for x in string}\n",
    "    list_of_keys = list(string_dict.values())\n",
    "    for key, value in string_dict.items():\n",
    "        if value == 1:\n",
    "            return list_of_keys.index(value)\n",
    "        return -1"
   ]
  },
  {
   "cell_type": "code",
   "execution_count": 38,
   "id": "2cdba98d-47af-4b94-bab6-a5e3d795f41c",
   "metadata": {},
   "outputs": [
    {
     "data": {
      "text/plain": [
       "-1"
      ]
     },
     "execution_count": 38,
     "metadata": {},
     "output_type": "execute_result"
    }
   ],
   "source": [
    "nonRepeat(string)"
   ]
  },
  {
   "cell_type": "code",
   "execution_count": 30,
   "id": "356b62c9-ecb0-4f2d-b79a-a72941b86be0",
   "metadata": {},
   "outputs": [],
   "source": [
    "from collections import Counter"
   ]
  },
  {
   "cell_type": "code",
   "execution_count": 46,
   "id": "96e3d7fa-ab53-4843-b30e-a78eb6c91f42",
   "metadata": {},
   "outputs": [],
   "source": [
    "def nonRepeatcounter(string):\n",
    "    character_count = Counter(string)\n",
    "    for i in range(len(character_count)):\n",
    "        if character_count[string[i]]==1:\n",
    "            return i\n",
    "    return -1"
   ]
  },
  {
   "cell_type": "code",
   "execution_count": 47,
   "id": "0302d77e-8a0d-4dc1-a0de-13f7aee745fa",
   "metadata": {},
   "outputs": [
    {
     "data": {
      "text/plain": [
       "1"
      ]
     },
     "execution_count": 47,
     "metadata": {},
     "output_type": "execute_result"
    }
   ],
   "source": [
    "nonRepeatcounter(string)"
   ]
  },
  {
   "cell_type": "code",
   "execution_count": null,
   "id": "2a9b07f5-a6ef-4888-883b-68674dfe72e0",
   "metadata": {},
   "outputs": [],
   "source": []
  }
 ],
 "metadata": {
  "kernelspec": {
   "display_name": "Python 3 (ipykernel)",
   "language": "python",
   "name": "python3"
  },
  "language_info": {
   "codemirror_mode": {
    "name": "ipython",
    "version": 3
   },
   "file_extension": ".py",
   "mimetype": "text/x-python",
   "name": "python",
   "nbconvert_exporter": "python",
   "pygments_lexer": "ipython3",
   "version": "3.10.8"
  }
 },
 "nbformat": 4,
 "nbformat_minor": 5
}
