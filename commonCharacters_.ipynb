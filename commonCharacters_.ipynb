{
 "cells": [
  {
   "cell_type": "code",
   "execution_count": 3,
   "id": "ece09deb-416c-4fe5-8a07-7ab07f966a82",
   "metadata": {},
   "outputs": [],
   "source": [
    "strings = ['abc', 'bcd', 'cbaccd']\n"
   ]
  },
  {
   "cell_type": "code",
   "execution_count": null,
   "id": "dfeb1a86-d6d8-4355-a0b0-0b79d6518847",
   "metadata": {},
   "outputs": [],
   "source": [
    "#Prompt: write a function that takes in a non-empty list of non-empty strings \n",
    "# and returns a list of characters that are common to all strings in the list. \n",
    "# Ignore multiplicity. \n"
   ]
  },
  {
   "cell_type": "code",
   "execution_count": 123,
   "id": "1a6c2a1f-584a-436d-b4dc-de6b93a16be3",
   "metadata": {},
   "outputs": [],
   "source": [
    "def commonCharacters(strings):\n",
    "    strings_dict = {}\n",
    "    for word in strings:\n",
    "        for letter in word:\n",
    "            strings_dict[word] = {letter:word.count(letter) for letter in word}\n",
    "    common_values= set(strings_dict[list(strings_dict.keys())[0]].keys())\n",
    "    for word in strings_dict.values():\n",
    "        common_values &= set(word.keys())\n",
    "    return common_values"
   ]
  },
  {
   "cell_type": "code",
   "execution_count": 124,
   "id": "2462aa0c-c56e-47d6-8909-9d7e6c6d0edd",
   "metadata": {},
   "outputs": [
    {
     "data": {
      "text/plain": [
       "{'b', 'c'}"
      ]
     },
     "execution_count": 124,
     "metadata": {},
     "output_type": "execute_result"
    }
   ],
   "source": [
    "commonCharacters(strings)"
   ]
  },
  {
   "cell_type": "code",
   "execution_count": null,
   "id": "32816a50-866b-4f29-9c9e-66e3448478df",
   "metadata": {},
   "outputs": [],
   "source": []
  }
 ],
 "metadata": {
  "kernelspec": {
   "display_name": "Python 3 (ipykernel)",
   "language": "python",
   "name": "python3"
  },
  "language_info": {
   "codemirror_mode": {
    "name": "ipython",
    "version": 3
   },
   "file_extension": ".py",
   "mimetype": "text/x-python",
   "name": "python",
   "nbconvert_exporter": "python",
   "pygments_lexer": "ipython3",
   "version": "3.10.8"
  }
 },
 "nbformat": 4,
 "nbformat_minor": 5
}
