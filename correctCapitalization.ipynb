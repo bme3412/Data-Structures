{
 "cells": [
  {
   "cell_type": "code",
   "execution_count": 2,
   "id": "d1c76825",
   "metadata": {},
   "outputs": [],
   "source": [
    "string_1 = \"USA\" #return true\n",
    "string_2 = \"Calvin\" # return true\n",
    "string_3 = \"compUter\" #return false\n",
    "string_4 = \"coding\" #return true"
   ]
  },
  {
   "cell_type": "code",
   "execution_count": 13,
   "id": "b26224f7",
   "metadata": {},
   "outputs": [],
   "source": [
    "def correctCapitalization(string):\n",
    "    for i in string:\n",
    "        if string.isupper():\n",
    "            return True\n",
    "        elif string.islower():\n",
    "            return True\n",
    "        elif string.istitle():\n",
    "            return True\n",
    "        else: \n",
    "            return False"
   ]
  },
  {
   "cell_type": "code",
   "execution_count": 19,
   "id": "d5a0f458",
   "metadata": {},
   "outputs": [
    {
     "data": {
      "text/plain": [
       "True"
      ]
     },
     "execution_count": 19,
     "metadata": {},
     "output_type": "execute_result"
    }
   ],
   "source": [
    "correctCapitalization(string_4)"
   ]
  },
  {
   "cell_type": "code",
   "execution_count": 20,
   "id": "8ea55d26",
   "metadata": {},
   "outputs": [],
   "source": [
    "result_1 = correctCapitalization(string_1)\n",
    "result_2 = correctCapitalization(string_2)\n",
    "result_3 = correctCapitalization(string_3)\n",
    "result_4 = correctCapitalization(string_4)"
   ]
  },
  {
   "cell_type": "code",
   "execution_count": 22,
   "id": "cef94de1",
   "metadata": {},
   "outputs": [
    {
     "name": "stdout",
     "output_type": "stream",
     "text": [
      "True\n",
      "True\n",
      "False\n",
      "True\n"
     ]
    }
   ],
   "source": [
    "print(result_1)\n",
    "print(result_2)\n",
    "print(result_3)\n",
    "print(result_4)"
   ]
  },
  {
   "cell_type": "code",
   "execution_count": null,
   "id": "250fede1",
   "metadata": {},
   "outputs": [],
   "source": []
  }
 ],
 "metadata": {
  "kernelspec": {
   "display_name": "Python 3 (ipykernel)",
   "language": "python",
   "name": "python3"
  },
  "language_info": {
   "codemirror_mode": {
    "name": "ipython",
    "version": 3
   },
   "file_extension": ".py",
   "mimetype": "text/x-python",
   "name": "python",
   "nbconvert_exporter": "python",
   "pygments_lexer": "ipython3",
   "version": "3.10.8"
  }
 },
 "nbformat": 4,
 "nbformat_minor": 5
}
