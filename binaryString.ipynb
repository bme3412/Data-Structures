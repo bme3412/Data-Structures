{
 "cells": [
  {
   "cell_type": "code",
   "execution_count": 64,
   "id": "3f49a90a",
   "metadata": {},
   "outputs": [],
   "source": [
    "string_1 = \"100 + 1\"# return \"101\"\n",
    "string_2 = \"11 + 1\"# return \"100\"\n",
    "string_3 = \"1 + 0\"# return  \"1\""
   ]
  },
  {
   "cell_type": "code",
   "execution_count": 83,
   "id": "d59d060a",
   "metadata": {},
   "outputs": [],
   "source": [
    "def binaryString(string):\n",
    "    numbers = string.split(\" + \")\n",
    "    num1 = int(numbers[-2])\n",
    "    num2 = int(numbers[-1])\n",
    "    sum_num = num1 + num2\n",
    "    binary_sum = bin(sum_num)[2:]\n",
    "    return int(sum_num)"
   ]
  },
  {
   "cell_type": "code",
   "execution_count": 84,
   "id": "62ea571c",
   "metadata": {},
   "outputs": [
    {
     "data": {
      "text/plain": [
       "101"
      ]
     },
     "execution_count": 84,
     "metadata": {},
     "output_type": "execute_result"
    }
   ],
   "source": [
    "binaryString(string_1)"
   ]
  },
  {
   "cell_type": "code",
   "execution_count": 85,
   "id": "ba3dff19",
   "metadata": {},
   "outputs": [
    {
     "data": {
      "text/plain": [
       "12"
      ]
     },
     "execution_count": 85,
     "metadata": {},
     "output_type": "execute_result"
    }
   ],
   "source": [
    "binaryString(string_2)"
   ]
  },
  {
   "cell_type": "code",
   "execution_count": 86,
   "id": "af84c8d9",
   "metadata": {},
   "outputs": [
    {
     "data": {
      "text/plain": [
       "1"
      ]
     },
     "execution_count": 86,
     "metadata": {},
     "output_type": "execute_result"
    }
   ],
   "source": [
    "binaryString(string_3)"
   ]
  },
  {
   "cell_type": "code",
   "execution_count": null,
   "id": "2d4fdde1",
   "metadata": {},
   "outputs": [],
   "source": []
  }
 ],
 "metadata": {
  "kernelspec": {
   "display_name": "Python 3 (ipykernel)",
   "language": "python",
   "name": "python3"
  },
  "language_info": {
   "codemirror_mode": {
    "name": "ipython",
    "version": 3
   },
   "file_extension": ".py",
   "mimetype": "text/x-python",
   "name": "python",
   "nbconvert_exporter": "python",
   "pygments_lexer": "ipython3",
   "version": "3.10.8"
  }
 },
 "nbformat": 4,
 "nbformat_minor": 5
}
