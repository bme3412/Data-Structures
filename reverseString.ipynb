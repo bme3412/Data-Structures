{
 "cells": [
  {
   "cell_type": "code",
   "execution_count": 9,
   "id": "a69c5cbb",
   "metadata": {},
   "outputs": [],
   "source": [
    "# Given a string, reverse all of its characters and return the resulting string\n",
    "string_1 = 'Cat'\n",
    "string_2 = 'The Daily Byte'\n",
    "string_3 = 'civic'\n",
    "\n"
   ]
  },
  {
   "cell_type": "code",
   "execution_count": 11,
   "id": "6a8f3171",
   "metadata": {},
   "outputs": [],
   "source": [
    "def string_reverse(string):\n",
    "    for i in string:\n",
    "        print(i)"
   ]
  },
  {
   "cell_type": "code",
   "execution_count": 13,
   "id": "8b6d159d",
   "metadata": {},
   "outputs": [],
   "source": [
    "print(string_1)"
   ]
  },
  {
   "cell_type": "code",
   "execution_count": null,
   "id": "c9cfefed",
   "metadata": {},
   "outputs": [],
   "source": []
  }
 ],
 "metadata": {
  "kernelspec": {
   "display_name": "Python 3 (ipykernel)",
   "language": "python",
   "name": "python3"
  },
  "language_info": {
   "codemirror_mode": {
    "name": "ipython",
    "version": 3
   },
   "file_extension": ".py",
   "mimetype": "text/x-python",
   "name": "python",
   "nbconvert_exporter": "python",
   "pygments_lexer": "ipython3",
   "version": "3.10.8"
  }
 },
 "nbformat": 4,
 "nbformat_minor": 5
}
