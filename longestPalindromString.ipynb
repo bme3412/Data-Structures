{
 "cells": [
  {
   "cell_type": "code",
   "execution_count": 4,
   "id": "d8e6929d-b02b-420c-8f5e-01b8b64bb9a5",
   "metadata": {},
   "outputs": [],
   "source": [
    "string_1 = 'abaxyzzyxf'"
   ]
  },
  {
   "cell_type": "code",
   "execution_count": 42,
   "id": "5db2d62d-7bfd-4411-a6d6-6356df9e9411",
   "metadata": {},
   "outputs": [],
   "source": [
    "def longPalindromeString(string):\n",
    "    string_list = list(string_1) # convert string to a list so that can access all items in the list\n",
    "    longest_palindrome = 0 # instantiate\n",
    "    for i in range(len(string_list)): # convert to index so that can identify \n",
    "        if string_list[i] == string_list[i][::-1]:\n",
    "            longest_palindrome = string_list[i]\n",
    "    return longest_palindrome"
   ]
  },
  {
   "cell_type": "code",
   "execution_count": 43,
   "id": "cc7e4dcb-2bfe-4c83-9572-31526fde975e",
   "metadata": {},
   "outputs": [
    {
     "data": {
      "text/plain": [
       "'f'"
      ]
     },
     "execution_count": 43,
     "metadata": {},
     "output_type": "execute_result"
    }
   ],
   "source": [
    "longPalindromeString(string)"
   ]
  },
  {
   "cell_type": "code",
   "execution_count": 158,
   "id": "2e0f6118-6497-4241-b03d-d9d89e466eb6",
   "metadata": {},
   "outputs": [],
   "source": [
    "def longestPalindromeString2(string):\n",
    "    string_list = list(string_1)\n",
    "    longPalindrome = []\n",
    "    i_index = 0\n",
    "    j_index = 1\n",
    "    if j_index != i_index and string_list[i_index:j_index]!=string_list[i_index:j_index][::-1]:\n",
    "        j+=1\n",
    "    else:\n",
    "        i_index+1\n",
    "        print(i_index)\n",
    "    return longPalindrome"
   ]
  },
  {
   "cell_type": "code",
   "execution_count": 159,
   "id": "fe0214a4-dc30-425f-b780-c238d7312ff7",
   "metadata": {},
   "outputs": [
    {
     "name": "stdout",
     "output_type": "stream",
     "text": [
      "0\n"
     ]
    },
    {
     "data": {
      "text/plain": [
       "[]"
      ]
     },
     "execution_count": 159,
     "metadata": {},
     "output_type": "execute_result"
    }
   ],
   "source": [
    "longestPalindromeString2(string_1)"
   ]
  },
  {
   "cell_type": "code",
   "execution_count": 161,
   "id": "e4578788-c132-4d5e-9bfd-ffc553e493a4",
   "metadata": {},
   "outputs": [],
   "source": [
    "def longestPalindromString3(string):\n",
    "    def isPalindrome(start, end): # helper function\n",
    "        return string[i:j] == string[i:j][::-1]\n",
    "        \n",
    "    maxPalindrome = '' # instantiate\n",
    "    for i in range(len(string)):\n",
    "        for j in range(i+1,len(string)+1): # need toa ccount for slicing convntion\n",
    "            if isPalindrome(i,j) and j-i > len(maxPalindrome):\n",
    "                maxPalindrome = string[i:j]\n",
    "    return maxPalindrome\n",
    "                "
   ]
  },
  {
   "cell_type": "code",
   "execution_count": 162,
   "id": "f9341cd3-43e4-45d1-9360-b2ccaffd9375",
   "metadata": {},
   "outputs": [
    {
     "data": {
      "text/plain": [
       "'xyzzyx'"
      ]
     },
     "execution_count": 162,
     "metadata": {},
     "output_type": "execute_result"
    }
   ],
   "source": [
    "longestPalindromString3(string_1)"
   ]
  },
  {
   "cell_type": "code",
   "execution_count": null,
   "id": "aa1a498b-c8b7-48ac-af3a-b96d2586cf1d",
   "metadata": {},
   "outputs": [],
   "source": []
  }
 ],
 "metadata": {
  "kernelspec": {
   "display_name": "Python 3 (ipykernel)",
   "language": "python",
   "name": "python3"
  },
  "language_info": {
   "codemirror_mode": {
    "name": "ipython",
    "version": 3
   },
   "file_extension": ".py",
   "mimetype": "text/x-python",
   "name": "python",
   "nbconvert_exporter": "python",
   "pygments_lexer": "ipython3",
   "version": "3.10.8"
  }
 },
 "nbformat": 4,
 "nbformat_minor": 5
}
