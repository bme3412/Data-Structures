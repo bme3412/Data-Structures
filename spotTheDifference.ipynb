{
 "cells": [
  {
   "cell_type": "code",
   "execution_count": 2,
   "id": "779da937-d44b-49c5-a776-b3d8d6bbf8d2",
   "metadata": {},
   "outputs": [],
   "source": [
    "s1 = \"foobar\"\n",
    "t1 = \"barfoot\" #return 't'\n",
    "s2 = \"ide\"\n",
    "t2 = \"idea\" #return 'a'\n",
    "s3 = \"coding\"\n",
    "t3= \"ingcod\" # return ''"
   ]
  },
  {
   "cell_type": "code",
   "execution_count": 75,
   "id": "3490e9ce-ddc3-4e4f-8164-0c4ab6b8b9c6",
   "metadata": {},
   "outputs": [],
   "source": [
    "def spotTheDiff(s,t):\n",
    "    string1_dict = {i:s.count(i) for i in s}\n",
    "    string2_dict = {i:t.count(i) for i in t}\n",
    "    if string1_dict == string2_dict:\n",
    "        return ' '\n",
    "    else: \n",
    "        extra_key = [key for key in string2_dict if key not in string1_dict]\n",
    "        return extra_key[0]"
   ]
  },
  {
   "cell_type": "code",
   "execution_count": 76,
   "id": "56597b70-f467-4b84-9d76-5817262b8028",
   "metadata": {},
   "outputs": [
    {
     "data": {
      "text/plain": [
       "'t'"
      ]
     },
     "execution_count": 76,
     "metadata": {},
     "output_type": "execute_result"
    }
   ],
   "source": [
    "spotTheDiff(s1, t1)"
   ]
  },
  {
   "cell_type": "code",
   "execution_count": 77,
   "id": "b480f321-cdf5-47e9-b7e0-20be7c417fcf",
   "metadata": {},
   "outputs": [
    {
     "data": {
      "text/plain": [
       "'a'"
      ]
     },
     "execution_count": 77,
     "metadata": {},
     "output_type": "execute_result"
    }
   ],
   "source": [
    "spotTheDiff(s2, t2)"
   ]
  },
  {
   "cell_type": "code",
   "execution_count": 78,
   "id": "51086a25-09ce-41cd-8d01-c233013e3f69",
   "metadata": {},
   "outputs": [
    {
     "data": {
      "text/plain": [
       "' '"
      ]
     },
     "execution_count": 78,
     "metadata": {},
     "output_type": "execute_result"
    }
   ],
   "source": [
    "spotTheDiff(s3, t3)"
   ]
  },
  {
   "cell_type": "code",
   "execution_count": null,
   "id": "8b006315-1a5f-4615-9542-4f6e64ad92d1",
   "metadata": {},
   "outputs": [],
   "source": []
  }
 ],
 "metadata": {
  "kernelspec": {
   "display_name": "Python 3 (ipykernel)",
   "language": "python",
   "name": "python3"
  },
  "language_info": {
   "codemirror_mode": {
    "name": "ipython",
    "version": 3
   },
   "file_extension": ".py",
   "mimetype": "text/x-python",
   "name": "python",
   "nbconvert_exporter": "python",
   "pygments_lexer": "ipython3",
   "version": "3.10.8"
  }
 },
 "nbformat": 4,
 "nbformat_minor": 5
}
