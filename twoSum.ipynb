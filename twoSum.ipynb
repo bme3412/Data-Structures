{
 "cells": [
  {
   "cell_type": "code",
   "execution_count": 1,
   "id": "d8233d0d-d789-4e51-a131-7ae03d882716",
   "metadata": {},
   "outputs": [],
   "source": [
    "string_1 = [1, 3, 8, 2] \n",
    "target_1 = 10 #return true (8 + 2)\n",
    "string_2 = [3, 9, 13, 7]\n",
    "target_2 = 8 #return false\n",
    "string_3 = [4, 2, 6, 5, 2]\n",
    "target_3 = 4 #return true (2 + 2)"
   ]
  },
  {
   "cell_type": "code",
   "execution_count": 52,
   "id": "e471c47b-0518-43f2-8671-d95e8230a0ef",
   "metadata": {},
   "outputs": [],
   "source": [
    "def twoSum(string, target):\n",
    "    for i in range(len(string)):\n",
    "        #print(f\"index is {i}, value is {string[i]}\")\n",
    "        for j in range(len(string)-1):\n",
    "            #print(f\"index is {j}, value is {string[j]}\")\n",
    "            if string[i] + string[j]==target:\n",
    "                print(string[i], string[j])\n",
    "                return True\n",
    "    return False"
   ]
  },
  {
   "cell_type": "code",
   "execution_count": 53,
   "id": "b15a7b98-9aad-4b71-b9a9-44bd91f2ccf7",
   "metadata": {},
   "outputs": [
    {
     "name": "stdout",
     "output_type": "stream",
     "text": [
      "2 8\n"
     ]
    },
    {
     "data": {
      "text/plain": [
       "True"
      ]
     },
     "execution_count": 53,
     "metadata": {},
     "output_type": "execute_result"
    }
   ],
   "source": [
    "twoSum(string_1, target_1)"
   ]
  },
  {
   "cell_type": "code",
   "execution_count": 54,
   "id": "668ea157-b084-4b2a-abe9-4798a1540fe7",
   "metadata": {},
   "outputs": [
    {
     "data": {
      "text/plain": [
       "False"
      ]
     },
     "execution_count": 54,
     "metadata": {},
     "output_type": "execute_result"
    }
   ],
   "source": [
    "twoSum(string_2, target_2)"
   ]
  },
  {
   "cell_type": "code",
   "execution_count": 55,
   "id": "6d7f140d-197b-4227-b435-cd0f640e1405",
   "metadata": {},
   "outputs": [
    {
     "name": "stdout",
     "output_type": "stream",
     "text": [
      "2 2\n"
     ]
    },
    {
     "data": {
      "text/plain": [
       "True"
      ]
     },
     "execution_count": 55,
     "metadata": {},
     "output_type": "execute_result"
    }
   ],
   "source": [
    "twoSum(string_3, target_3)"
   ]
  },
  {
   "cell_type": "code",
   "execution_count": null,
   "id": "3ee318ae-239d-43bb-b20a-919ccfe16293",
   "metadata": {},
   "outputs": [],
   "source": []
  }
 ],
 "metadata": {
  "kernelspec": {
   "display_name": "Python 3 (ipykernel)",
   "language": "python",
   "name": "python3"
  },
  "language_info": {
   "codemirror_mode": {
    "name": "ipython",
    "version": 3
   },
   "file_extension": ".py",
   "mimetype": "text/x-python",
   "name": "python",
   "nbconvert_exporter": "python",
   "pygments_lexer": "ipython3",
   "version": "3.10.8"
  }
 },
 "nbformat": 4,
 "nbformat_minor": 5
}
