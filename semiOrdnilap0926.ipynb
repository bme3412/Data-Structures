{
 "cells": [
  {
   "cell_type": "code",
   "execution_count": 1,
   "id": "5667c3f9-6356-48a1-b499-4328d4b93a31",
   "metadata": {},
   "outputs": [],
   "source": [
    "words = ['diaper','abc','test','cba','repaid']"
   ]
  },
  {
   "cell_type": "code",
   "execution_count": 13,
   "id": "c0c38e4e-7b27-497d-a1f7-86f164b01104",
   "metadata": {},
   "outputs": [],
   "source": [
    "def semiOrdnliap(words):\n",
    "    pairs = []\n",
    "    for i in range(len(words)-1):\n",
    "        firstWord = words[i]\n",
    "        for j in range(i+1,len(words)):\n",
    "            if words[i]==words[j][::-1]:\n",
    "                pairs.append([words[i], words[j]])\n",
    "    return pairs "
   ]
  },
  {
   "cell_type": "code",
   "execution_count": 14,
   "id": "ed362107-3b62-4445-bf85-70b1d6ca1de5",
   "metadata": {},
   "outputs": [
    {
     "data": {
      "text/plain": [
       "[['diaper', 'repaid'], ['abc', 'cba']]"
      ]
     },
     "execution_count": 14,
     "metadata": {},
     "output_type": "execute_result"
    }
   ],
   "source": [
    "semiOrdnliap(words)"
   ]
  },
  {
   "cell_type": "code",
   "execution_count": null,
   "id": "3472f28b-a67b-4e37-b6db-50fe42492069",
   "metadata": {},
   "outputs": [],
   "source": []
  }
 ],
 "metadata": {
  "kernelspec": {
   "display_name": "Python 3 (ipykernel)",
   "language": "python",
   "name": "python3"
  },
  "language_info": {
   "codemirror_mode": {
    "name": "ipython",
    "version": 3
   },
   "file_extension": ".py",
   "mimetype": "text/x-python",
   "name": "python",
   "nbconvert_exporter": "python",
   "pygments_lexer": "ipython3",
   "version": "3.10.8"
  }
 },
 "nbformat": 4,
 "nbformat_minor": 5
}
