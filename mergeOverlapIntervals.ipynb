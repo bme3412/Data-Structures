{
 "cells": [
  {
   "cell_type": "code",
   "execution_count": 4,
   "id": "9fe04159-1a72-40de-9f69-5bef300c9b68",
   "metadata": {},
   "outputs": [],
   "source": [
    "# write a fucntion that takes in a non-empty array of intervals\n",
    "# merges any overlapping intervals\n",
    "# returns the new intervals in no order\n",
    "\n",
    "# each interval is an array of 2 integers, interval[0], interval[1]\n",
    "# back to back intervals are not overlapping [1,5], [6, 7] !=\n",
    "# overlapping is [1,6], [6,7]\n",
    "\n",
    "# the start of any interval will b <= end of the interval\n",
    "#returns new intervals"
   ]
  },
  {
   "cell_type": "code",
   "execution_count": 149,
   "id": "9b656f39-23d9-4926-b36a-c46e88f16839",
   "metadata": {},
   "outputs": [],
   "source": [
    "## sample input\n",
    "intervals_1 = [[1,2], [3,5], [4,7], [6,8], [9,10]]\n",
    "\n",
    "# sample output = \n",
    "output = [[1,2], [3,8], [9,10]]"
   ]
  },
  {
   "cell_type": "code",
   "execution_count": 150,
   "id": "02300669-da1c-4aa9-bf0e-173a60bb2094",
   "metadata": {},
   "outputs": [],
   "source": [
    "def mergeOverlappingIntervals(intervals): # list of lists\n",
    "    sorted_interval = [i for i in sorted(intervals)]\n",
    "    merged = []\n",
    "    for i in range(len(sorted_interval)):\n",
    "        if sorted_interval[i-1][1] == sorted_interval[i][0]+1:\n",
    "            merged+= [sorted_interval[i-1][1],sorted_interval[i][0]]\n",
    "            print(sorted_interval, merged)\n",
    "            "
   ]
  },
  {
   "cell_type": "code",
   "execution_count": 151,
   "id": "67ea5eb6-4ff1-41ac-8d34-4b235f9d4b86",
   "metadata": {},
   "outputs": [
    {
     "name": "stdout",
     "output_type": "stream",
     "text": [
      "[[1, 2], [3, 5], [4, 7], [6, 8], [9, 10]] [5, 4]\n",
      "[[1, 2], [3, 5], [4, 7], [6, 8], [9, 10]] [5, 4, 7, 6]\n"
     ]
    }
   ],
   "source": [
    "mergeOverlappingIntervals(intervals_1)"
   ]
  },
  {
   "cell_type": "code",
   "execution_count": 171,
   "id": "678440c0-a653-4445-a40f-7e62b2c8798f",
   "metadata": {},
   "outputs": [],
   "source": [
    "def mergeOverlapIntervals2(intervals):\n",
    "    intervals.sort(key=lambda x : x[0])\n",
    "    i = 0\n",
    "    while i < len(intervals) -1:\n",
    "        if intervals[i][1] >= intervals[i+1][0]:\n",
    "            print(intervals[i][1], intervals[i+1][1])\n",
    "            intervals[i][1] = max(intervals[i][1],intervals[i+1][1])\n",
    "            del intervals[i+1]\n",
    "            \n",
    "        else:\n",
    "            i +=1\n",
    "    return intervals"
   ]
  },
  {
   "cell_type": "code",
   "execution_count": 172,
   "id": "e70475ad-2b11-47e0-9dd3-529626fe1ab1",
   "metadata": {},
   "outputs": [
    {
     "data": {
      "text/plain": [
       "[[1, 2], [3, 8], [9, 10]]"
      ]
     },
     "execution_count": 172,
     "metadata": {},
     "output_type": "execute_result"
    }
   ],
   "source": [
    "mergeOverlapIntervals2(intervals_1)"
   ]
  },
  {
   "cell_type": "code",
   "execution_count": 173,
   "id": "79e97a14-9818-48c6-944a-8f4b2c53fd00",
   "metadata": {},
   "outputs": [],
   "source": [
    "def mergeOverlapIntervalsAnswer(intervals):\n",
    "    sortedIntervals = sorted(intervals, key = lambda x:x[0])\n",
    "    \n",
    "    mergedIntervals = []\n",
    "    currentInterval = sortedIntervals[0] # firt interval\n",
    "    mergedIntervals.append(currentInterval) # append to emrged intervals\n",
    "\n",
    "    for nextInterval in sortedIntervals:\n",
    "        _, currentIntervalEnd = currentInterval\n",
    "        nextIntervalStart, nextIntervalEnd = nextInterval\n",
    "\n",
    "        if currentIntervalEnd >= nextIntervalStart:\n",
    "            currentInterval[1] = max(currentIntervalEnd, nextIntervalEnd)\n",
    "        else:\n",
    "            currentInterval = nextInterval\n",
    "            mergedIntervals.append(currentInterval)\n",
    "    \n",
    "    return mergedIntervals\n",
    "        \n"
   ]
  },
  {
   "cell_type": "code",
   "execution_count": 174,
   "id": "3029de35-e76c-4960-b47a-e8a722698c9d",
   "metadata": {},
   "outputs": [
    {
     "data": {
      "text/plain": [
       "[[1, 2], [3, 8], [9, 10]]"
      ]
     },
     "execution_count": 174,
     "metadata": {},
     "output_type": "execute_result"
    }
   ],
   "source": [
    "mergeOverlapIntervalsAnswer(intervals_1)"
   ]
  },
  {
   "cell_type": "code",
   "execution_count": null,
   "id": "92fb0718-c4a0-4321-9644-88c313bc1c92",
   "metadata": {},
   "outputs": [],
   "source": []
  }
 ],
 "metadata": {
  "kernelspec": {
   "display_name": "Python 3 (ipykernel)",
   "language": "python",
   "name": "python3"
  },
  "language_info": {
   "codemirror_mode": {
    "name": "ipython",
    "version": 3
   },
   "file_extension": ".py",
   "mimetype": "text/x-python",
   "name": "python",
   "nbconvert_exporter": "python",
   "pygments_lexer": "ipython3",
   "version": "3.10.8"
  }
 },
 "nbformat": 4,
 "nbformat_minor": 5
}
