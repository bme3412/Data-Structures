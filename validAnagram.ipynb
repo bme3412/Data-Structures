{
 "cells": [
  {
   "cell_type": "code",
   "execution_count": 17,
   "id": "24223827-e951-46bc-a749-c5275ad4edf2",
   "metadata": {},
   "outputs": [],
   "source": [
    "s1 = \"cat\" \n",
    "t1 = \"tac\" #return true\n",
    "s2 = \"listen\"\n",
    "t2 = \"silent\" #return true\n",
    "s3 = \"program\"\n",
    "t3 = \"function\" #return false"
   ]
  },
  {
   "cell_type": "code",
   "execution_count": 18,
   "id": "df8a85cd-7749-4150-8eac-056f29315441",
   "metadata": {},
   "outputs": [],
   "source": [
    "def anagram(string1, string2):\n",
    "    s_dict = {i:string1.count(i) for i in string1}\n",
    "    t_dict = {i:string2.count(i) for i in string2}\n",
    "    if s_dict== t_dict:\n",
    "        return True\n",
    "    return False"
   ]
  },
  {
   "cell_type": "code",
   "execution_count": 19,
   "id": "0cfb7e15-4257-40ba-968a-f99e14901a84",
   "metadata": {},
   "outputs": [
    {
     "data": {
      "text/plain": [
       "True"
      ]
     },
     "execution_count": 19,
     "metadata": {},
     "output_type": "execute_result"
    }
   ],
   "source": [
    "anagram(s1, t1)"
   ]
  },
  {
   "cell_type": "code",
   "execution_count": null,
   "id": "8989c38d-7544-429e-8d25-0bdd4b12bafb",
   "metadata": {},
   "outputs": [],
   "source": []
  }
 ],
 "metadata": {
  "kernelspec": {
   "display_name": "Python 3 (ipykernel)",
   "language": "python",
   "name": "python3"
  },
  "language_info": {
   "codemirror_mode": {
    "name": "ipython",
    "version": 3
   },
   "file_extension": ".py",
   "mimetype": "text/x-python",
   "name": "python",
   "nbconvert_exporter": "python",
   "pygments_lexer": "ipython3",
   "version": "3.10.8"
  }
 },
 "nbformat": 4,
 "nbformat_minor": 5
}
