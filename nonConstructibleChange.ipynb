{
 "cells": [
  {
   "cell_type": "code",
   "execution_count": 103,
   "id": "561f02b4",
   "metadata": {},
   "outputs": [
    {
     "data": {
      "text/plain": [
       "[1, 1, 2, 3, 5, 7, 22]"
      ]
     },
     "execution_count": 103,
     "metadata": {},
     "output_type": "execute_result"
    }
   ],
   "source": [
    "coin_combos = [5, 7, 1, 1, 2, 3, 22]\n",
    "coins_sorted = sorted(coin_combos)\n",
    "coins_sorted"
   ]
  },
  {
   "cell_type": "code",
   "execution_count": 102,
   "id": "c784d9fe",
   "metadata": {},
   "outputs": [],
   "source": [
    "def nonConstructibleChange(coins):\n",
    "    combos = []\n",
    "    min_value = 1\n",
    "    sorted_coins = sorted(coins)\n",
    "    for i in range(len(sorted_coins)):\n",
    "        combos.append(i)\n",
    "        next_coin = (i +1)\n",
    "        combo = sorted_coins[i]+sorted_coins[next_coin-1]\n",
    "        combos.append(combo)\n",
    "    return sorted(combos)\n",
    "    for x in range(len(combos)):\n",
    "        if combos[x] == min_value:\n",
    "            min_value= combos[x]\n",
    "            \n",
    "    return min_value"
   ]
  },
  {
   "cell_type": "code",
   "execution_count": 101,
   "id": "29082702",
   "metadata": {},
   "outputs": [
    {
     "name": "stdout",
     "output_type": "stream",
     "text": [
      "[0, 1, 2, 2, 2, 3, 4, 4, 5, 6, 6, 10, 14, 44]\n"
     ]
    }
   ],
   "source": [
    "sorted_coins = nonConstructibleChange(coin_combos)\n",
    "print(sorted_coins)"
   ]
  },
  {
   "cell_type": "code",
   "execution_count": 80,
   "id": "60a9d506",
   "metadata": {},
   "outputs": [],
   "source": [
    "def change(coins):\n",
    "    combos = []\n",
    "    min_value = min(coins)\n",
    "    combos.append(min_value)\n",
    "    for i\n",
    "    return combos"
   ]
  },
  {
   "cell_type": "code",
   "execution_count": 81,
   "id": "f10f3f70",
   "metadata": {},
   "outputs": [
    {
     "name": "stdout",
     "output_type": "stream",
     "text": [
      "[1]\n"
     ]
    }
   ],
   "source": [
    "min_coin = change(coin_combos)\n",
    "print(min_coin)"
   ]
  },
  {
   "cell_type": "code",
   "execution_count": 104,
   "id": "3ccfa636",
   "metadata": {},
   "outputs": [
    {
     "data": {
      "text/plain": [
       "[1, 1, 2, 3, 5, 7, 22]"
      ]
     },
     "execution_count": 104,
     "metadata": {},
     "output_type": "execute_result"
    }
   ],
   "source": [
    "coins_sorted"
   ]
  },
  {
   "cell_type": "code",
   "execution_count": 129,
   "id": "172eb3c8",
   "metadata": {},
   "outputs": [],
   "source": [
    "def change_combos(coins):\n",
    "    coins.sort() # sort the coins so that begin wiht smallest\n",
    "    currentChange = 0 # instantaite to 0\n",
    "    for coin in coins: # iterate over each coin\n",
    "        if coin > currentChange +1: # why? ## bc \n",
    "            return currentChange +1\n",
    "        currentChange += coin # add cumulatige count\n",
    "        #print(f'adding {coin}; change = {currentChange}, answer = {currentChange +1}')\n",
    "    return currentChange"
   ]
  },
  {
   "cell_type": "code",
   "execution_count": 130,
   "id": "182878d1",
   "metadata": {},
   "outputs": [
    {
     "name": "stdout",
     "output_type": "stream",
     "text": [
      "adding 1; change = 1, answer = 2\n",
      "adding 1; change = 2, answer = 3\n",
      "adding 2; change = 4, answer = 5\n",
      "adding 3; change = 7, answer = 8\n",
      "adding 5; change = 12, answer = 13\n",
      "adding 7; change = 19, answer = 20\n"
     ]
    },
    {
     "data": {
      "text/plain": [
       "20"
      ]
     },
     "execution_count": 130,
     "metadata": {},
     "output_type": "execute_result"
    }
   ],
   "source": [
    "change_combos(coins_sorted)"
   ]
  },
  {
   "cell_type": "code",
   "execution_count": 131,
   "id": "5863ba85",
   "metadata": {},
   "outputs": [],
   "source": [
    "def change(coins):\n",
    "    coins.sort()\n",
    "    change = 1 \n",
    "    for _ in coins:\n",
    "        if _ - change <= 0:\n",
    "            change +=_\n",
    "    return change"
   ]
  },
  {
   "cell_type": "code",
   "execution_count": 132,
   "id": "99f86693",
   "metadata": {},
   "outputs": [
    {
     "data": {
      "text/plain": [
       "20"
      ]
     },
     "execution_count": 132,
     "metadata": {},
     "output_type": "execute_result"
    }
   ],
   "source": [
    "change(coins_sorted)"
   ]
  },
  {
   "cell_type": "code",
   "execution_count": null,
   "id": "5dded007",
   "metadata": {},
   "outputs": [],
   "source": []
  }
 ],
 "metadata": {
  "kernelspec": {
   "display_name": "Python 3 (ipykernel)",
   "language": "python",
   "name": "python3"
  },
  "language_info": {
   "codemirror_mode": {
    "name": "ipython",
    "version": 3
   },
   "file_extension": ".py",
   "mimetype": "text/x-python",
   "name": "python",
   "nbconvert_exporter": "python",
   "pygments_lexer": "ipython3",
   "version": "3.10.8"
  }
 },
 "nbformat": 4,
 "nbformat_minor": 5
}
