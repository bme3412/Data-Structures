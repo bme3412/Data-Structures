{
 "cells": [
  {
   "cell_type": "code",
   "execution_count": 2,
   "id": "07985ddb",
   "metadata": {},
   "outputs": [],
   "source": [
    "string_1 = \"LR\"\n",
    "string_2 = \"URURD\"\n",
    "string_3 = \"RUULLDRD\""
   ]
  },
  {
   "cell_type": "code",
   "execution_count": 22,
   "id": "995798ee",
   "metadata": {},
   "outputs": [],
   "source": [
    "def vacuumCleaner(string):\n",
    "    string_dict = {\n",
    "        'L': -1,\n",
    "        'R': 1,\n",
    "        'U': 1,\n",
    "        'D': -1\n",
    "    }\n",
    "    convert_string = [string_dict[i] for i in string]\n",
    "    sum_string = sum(convert_string)\n",
    "    if sum_string == 0:\n",
    "        return True\n",
    "    return False\n",
    "    "
   ]
  },
  {
   "cell_type": "code",
   "execution_count": 25,
   "id": "5c38e396",
   "metadata": {},
   "outputs": [
    {
     "data": {
      "text/plain": [
       "True"
      ]
     },
     "execution_count": 25,
     "metadata": {},
     "output_type": "execute_result"
    }
   ],
   "source": [
    "vacuumCleaner(string_3)"
   ]
  },
  {
   "cell_type": "code",
   "execution_count": null,
   "id": "f8f846e8",
   "metadata": {},
   "outputs": [],
   "source": []
  }
 ],
 "metadata": {
  "kernelspec": {
   "display_name": "Python 3 (ipykernel)",
   "language": "python",
   "name": "python3"
  },
  "language_info": {
   "codemirror_mode": {
    "name": "ipython",
    "version": 3
   },
   "file_extension": ".py",
   "mimetype": "text/x-python",
   "name": "python",
   "nbconvert_exporter": "python",
   "pygments_lexer": "ipython3",
   "version": "3.10.8"
  }
 },
 "nbformat": 4,
 "nbformat_minor": 5
}
