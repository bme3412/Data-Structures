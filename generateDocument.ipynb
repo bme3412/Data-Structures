{
 "cells": [
  {
   "cell_type": "code",
   "execution_count": 2,
   "id": "a2892012-4805-4d60-a8c0-be6d9de878f6",
   "metadata": {},
   "outputs": [],
   "source": [
    "characters = 'Bste!hetsi ogEAxpelrt x '\n",
    "document = 'AlgoExpert is the Best!'"
   ]
  },
  {
   "cell_type": "code",
   "execution_count": 28,
   "id": "74caf20c-9238-4b05-8236-7cf97525bb75",
   "metadata": {},
   "outputs": [],
   "source": [
    "def generateDocument(characters, document):\n",
    "    characters_dict = {x:characters.count(x) for x in characters}\n",
    "    document_dict = {i:document.count(i) for i in document}\n",
    "    #return characters_dict, document_dict\n",
    "    if characters_dict == document_dict:\n",
    "        return True\n",
    "    return False"
   ]
  },
  {
   "cell_type": "code",
   "execution_count": 29,
   "id": "7f35aff2-276a-48ec-a7b5-f3cd1805e90a",
   "metadata": {},
   "outputs": [
    {
     "data": {
      "text/plain": [
       "False"
      ]
     },
     "execution_count": 29,
     "metadata": {},
     "output_type": "execute_result"
    }
   ],
   "source": [
    "generateDocument(characters, document)"
   ]
  },
  {
   "cell_type": "code",
   "execution_count": 24,
   "id": "0de8b119-948d-4701-8938-370b6fa76e0d",
   "metadata": {},
   "outputs": [],
   "source": [
    "characters2 = 'abcabc'\n",
    "document2 = 'aabbccc'"
   ]
  },
  {
   "cell_type": "code",
   "execution_count": 25,
   "id": "d98c50a2-2929-4884-95fc-e9ee604de993",
   "metadata": {},
   "outputs": [
    {
     "data": {
      "text/plain": [
       "False"
      ]
     },
     "execution_count": 25,
     "metadata": {},
     "output_type": "execute_result"
    }
   ],
   "source": [
    "generateDocument(characters2, document2)"
   ]
  },
  {
   "cell_type": "code",
   "execution_count": 34,
   "id": "4dbecf6f-558f-4c39-94b4-f5ce5f27688f",
   "metadata": {},
   "outputs": [],
   "source": [
    "def generateDocument2(characters, document):\n",
    "    #if len(document) > len(characters):\n",
    "        #return False\n",
    "    characters_dict = {x:characters.count(x) for x in characters}\n",
    "    document_dict = {i:document.count(i) for i in document}\n",
    "    return characters_dict, document_dict\n",
    "    if characters_dict == document_dict:\n",
    "        return True\n",
    "    return False"
   ]
  },
  {
   "cell_type": "code",
   "execution_count": 35,
   "id": "5212a2b6-7efc-4216-a3cc-523f8b1f42e1",
   "metadata": {},
   "outputs": [
    {
     "data": {
      "text/plain": [
       "({'a': 2, 'b': 2, 'c': 2}, {'a': 2, 'b': 2, 'c': 3})"
      ]
     },
     "execution_count": 35,
     "metadata": {},
     "output_type": "execute_result"
    }
   ],
   "source": [
    "generateDocument2(characters2, document2)"
   ]
  },
  {
   "cell_type": "code",
   "execution_count": 152,
   "id": "e5db5b37-6ed8-4c99-bc4a-03dcbff2946f",
   "metadata": {},
   "outputs": [],
   "source": [
    "def generateDocument3(characters, document):\n",
    "    #if len(document) > len(characters):\n",
    "        #return False\n",
    "    characters_dict = {x:characters.count(x) for x in characters}\n",
    "    for i in document:\n",
    "        #print(i)\n",
    "        for key, value in characters_dict.items():\n",
    "            if i == key:\n",
    "                if len(i)\n",
    "                print(value)\n",
    "        #return False\n",
    "\n",
    "    return True"
   ]
  },
  {
   "cell_type": "code",
   "execution_count": 153,
   "id": "46b8c533-8553-4df2-9e4c-eea76d1c4562",
   "metadata": {},
   "outputs": [
    {
     "name": "stdout",
     "output_type": "stream",
     "text": [
      "1\n",
      "1\n",
      "1\n",
      "1\n",
      "1\n",
      "1\n",
      "1\n"
     ]
    },
    {
     "data": {
      "text/plain": [
       "True"
      ]
     },
     "execution_count": 153,
     "metadata": {},
     "output_type": "execute_result"
    }
   ],
   "source": [
    "generateDocument3(characters2, document2)"
   ]
  },
  {
   "cell_type": "code",
   "execution_count": 151,
   "id": "3c892a18-1419-40e2-883b-b4f87e393cb2",
   "metadata": {},
   "outputs": [
    {
     "data": {
      "text/plain": [
       "True"
      ]
     },
     "execution_count": 151,
     "metadata": {},
     "output_type": "execute_result"
    }
   ],
   "source": [
    "generateDocument3(characters, document)"
   ]
  },
  {
   "cell_type": "code",
   "execution_count": 173,
   "id": "403d6494-53c9-4e64-be6d-896a40db5911",
   "metadata": {},
   "outputs": [],
   "source": [
    "def generateDocument4(characters, document):\n",
    "    return True if {i:characters.count(i) for i in characters}.keys()=={x:document.count(x) for x in document}.keys() and int({x:document.count(x) for x in document}.values()) >= {i:characters.count(i) for i in characters}.values() else False\n",
    "    \n",
    "    #return True if "
   ]
  },
  {
   "cell_type": "code",
   "execution_count": 174,
   "id": "09fdae02-f39b-4e04-b4d6-15269f3c39ac",
   "metadata": {},
   "outputs": [
    {
     "ename": "TypeError",
     "evalue": "int() argument must be a string, a bytes-like object or a real number, not 'dict_values'",
     "output_type": "error",
     "traceback": [
      "\u001b[0;31m---------------------------------------------------------------------------\u001b[0m",
      "\u001b[0;31mTypeError\u001b[0m                                 Traceback (most recent call last)",
      "Cell \u001b[0;32mIn[174], line 1\u001b[0m\n\u001b[0;32m----> 1\u001b[0m \u001b[43mgenerateDocument4\u001b[49m\u001b[43m(\u001b[49m\u001b[43mcharacters\u001b[49m\u001b[43m,\u001b[49m\u001b[43m \u001b[49m\u001b[43mdocument\u001b[49m\u001b[43m)\u001b[49m\n",
      "Cell \u001b[0;32mIn[173], line 2\u001b[0m, in \u001b[0;36mgenerateDocument4\u001b[0;34m(characters, document)\u001b[0m\n\u001b[1;32m      1\u001b[0m \u001b[38;5;28;01mdef\u001b[39;00m \u001b[38;5;21mgenerateDocument4\u001b[39m(characters, document):\n\u001b[0;32m----> 2\u001b[0m     \u001b[38;5;28;01mreturn\u001b[39;00m \u001b[38;5;28;01mTrue\u001b[39;00m \u001b[38;5;28;01mif\u001b[39;00m {i:characters\u001b[38;5;241m.\u001b[39mcount(i) \u001b[38;5;28;01mfor\u001b[39;00m i \u001b[38;5;129;01min\u001b[39;00m characters}\u001b[38;5;241m.\u001b[39mkeys()\u001b[38;5;241m==\u001b[39m{x:document\u001b[38;5;241m.\u001b[39mcount(x) \u001b[38;5;28;01mfor\u001b[39;00m x \u001b[38;5;129;01min\u001b[39;00m document}\u001b[38;5;241m.\u001b[39mkeys() \u001b[38;5;129;01mand\u001b[39;00m \u001b[38;5;28;43mint\u001b[39;49m\u001b[43m(\u001b[49m\u001b[43m{\u001b[49m\u001b[43mx\u001b[49m\u001b[43m:\u001b[49m\u001b[43mdocument\u001b[49m\u001b[38;5;241;43m.\u001b[39;49m\u001b[43mcount\u001b[49m\u001b[43m(\u001b[49m\u001b[43mx\u001b[49m\u001b[43m)\u001b[49m\u001b[43m \u001b[49m\u001b[38;5;28;43;01mfor\u001b[39;49;00m\u001b[43m \u001b[49m\u001b[43mx\u001b[49m\u001b[43m \u001b[49m\u001b[38;5;129;43;01min\u001b[39;49;00m\u001b[43m \u001b[49m\u001b[43mdocument\u001b[49m\u001b[43m}\u001b[49m\u001b[38;5;241;43m.\u001b[39;49m\u001b[43mvalues\u001b[49m\u001b[43m(\u001b[49m\u001b[43m)\u001b[49m\u001b[43m)\u001b[49m \u001b[38;5;241m>\u001b[39m\u001b[38;5;241m=\u001b[39m {i:characters\u001b[38;5;241m.\u001b[39mcount(i) \u001b[38;5;28;01mfor\u001b[39;00m i \u001b[38;5;129;01min\u001b[39;00m characters}\u001b[38;5;241m.\u001b[39mvalues() \u001b[38;5;28;01melse\u001b[39;00m \u001b[38;5;28;01mFalse\u001b[39;00m\n",
      "\u001b[0;31mTypeError\u001b[0m: int() argument must be a string, a bytes-like object or a real number, not 'dict_values'"
     ]
    }
   ],
   "source": [
    "generateDocument4(characters, document)"
   ]
  },
  {
   "cell_type": "code",
   "execution_count": 180,
   "id": "e4422c4f-c581-43ba-8684-edca41e68651",
   "metadata": {},
   "outputs": [],
   "source": [
    "from collections import Counter\n",
    "def generateDocumentCount(characters, document):\n",
    "    return Counter(document) - Counter(characters)=={}"
   ]
  },
  {
   "cell_type": "code",
   "execution_count": 181,
   "id": "b5d90bc8-7096-496b-ba5c-cc995ed25706",
   "metadata": {},
   "outputs": [
    {
     "data": {
      "text/plain": [
       "True"
      ]
     },
     "execution_count": 181,
     "metadata": {},
     "output_type": "execute_result"
    }
   ],
   "source": [
    "generateDocumentCount(characters, document)"
   ]
  },
  {
   "cell_type": "code",
   "execution_count": 182,
   "id": "7817f352-e282-4872-9e67-4358e8e7a3e8",
   "metadata": {},
   "outputs": [
    {
     "data": {
      "text/plain": [
       "False"
      ]
     },
     "execution_count": 182,
     "metadata": {},
     "output_type": "execute_result"
    }
   ],
   "source": [
    "generateDocumentCount(characters2, document2)"
   ]
  },
  {
   "cell_type": "code",
   "execution_count": 184,
   "id": "6f8c9731-2745-476e-8e1a-269cfc6c0e9c",
   "metadata": {},
   "outputs": [],
   "source": [
    "def generateDocumentGet(characters, document):\n",
    "    document = {} # instantiates a dictioanr\n",
    "    for c in characters: # for i in character string\n",
    "        document[c] = document.get(c,0)+1\n",
    "    for l in document:\n",
    "        if document.get(l, 0) == 0:\n",
    "            return False\n",
    "        document[l] -=1\n",
    "    return True"
   ]
  },
  {
   "cell_type": "code",
   "execution_count": null,
   "id": "bd984577-367f-4cb5-960c-6dc711172e69",
   "metadata": {},
   "outputs": [],
   "source": []
  }
 ],
 "metadata": {
  "kernelspec": {
   "display_name": "Python 3 (ipykernel)",
   "language": "python",
   "name": "python3"
  },
  "language_info": {
   "codemirror_mode": {
    "name": "ipython",
    "version": 3
   },
   "file_extension": ".py",
   "mimetype": "text/x-python",
   "name": "python",
   "nbconvert_exporter": "python",
   "pygments_lexer": "ipython3",
   "version": "3.10.8"
  }
 },
 "nbformat": 4,
 "nbformat_minor": 5
}
