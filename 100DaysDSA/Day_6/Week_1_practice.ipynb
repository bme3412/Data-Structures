{
 "cells": [
  {
   "cell_type": "markdown",
   "id": "7c6249c1-d3fd-44dc-9bb1-e1372aa3e050",
   "metadata": {},
   "source": [
    "## Arrays"
   ]
  },
  {
   "cell_type": "markdown",
   "id": "7f58f127-39b7-46b6-bacf-597ce844d3d6",
   "metadata": {},
   "source": [
    "#### Problem 1\n",
    "+ Find the maximum/minimum element in an array"
   ]
  },
  {
   "cell_type": "code",
   "execution_count": 2,
   "id": "837ac14a-aa56-40be-9119-a889a3f2ff62",
   "metadata": {},
   "outputs": [],
   "source": [
    "array_problem_1 = [3,5,24,72,100,1,9]"
   ]
  },
  {
   "cell_type": "code",
   "execution_count": 3,
   "id": "2fd1fa17-5838-4d7f-b2f4-d94eaa819994",
   "metadata": {},
   "outputs": [],
   "source": [
    "def find_min_max(arr):\n",
    "    min_int = max(arr)\n",
    "    max_int = min(arr)\n",
    "    return min_int, max_int"
   ]
  },
  {
   "cell_type": "code",
   "execution_count": 5,
   "id": "170b009c-4943-4233-aa8b-9403b745321c",
   "metadata": {},
   "outputs": [
    {
     "data": {
      "text/plain": [
       "(100, 1)"
      ]
     },
     "execution_count": 5,
     "metadata": {},
     "output_type": "execute_result"
    }
   ],
   "source": [
    "solution_1 = find_min_max(array_problem_1)\n",
    "solution_1"
   ]
  },
  {
   "cell_type": "markdown",
   "id": "ac9f575e-a119-4e9d-b62f-c6f75cb18663",
   "metadata": {},
   "source": [
    "### Problem 2\n",
    "+ Calculate the average of elements in an array"
   ]
  },
  {
   "cell_type": "code",
   "execution_count": 14,
   "id": "d1c1c578-7296-4bd7-a193-f15651d96d7f",
   "metadata": {},
   "outputs": [],
   "source": [
    "array_problem_2 = [3,5,24,72,100,1,9]\n",
    "def find_avg(arr):\n",
    "    length = len(arr)\n",
    "    return round(sum(arr)/ length)\n",
    "    "
   ]
  },
  {
   "cell_type": "code",
   "execution_count": 15,
   "id": "843cf295-d492-48db-aa77-d9491162efb4",
   "metadata": {},
   "outputs": [
    {
     "data": {
      "text/plain": [
       "31"
      ]
     },
     "execution_count": 15,
     "metadata": {},
     "output_type": "execute_result"
    }
   ],
   "source": [
    "solution_2 = find_avg(array_problem_2)\n",
    "solution_2"
   ]
  },
  {
   "cell_type": "markdown",
   "id": "b74c3f34-cd42-49e7-9c56-84c659a5785f",
   "metadata": {},
   "source": [
    "### Problem 3\n",
    "+ Reverse an Array: Write a function that takes an array as input and returns the reversed array."
   ]
  },
  {
   "cell_type": "code",
   "execution_count": 18,
   "id": "574d8b56-8cee-4db6-a475-74d33f82bfe6",
   "metadata": {},
   "outputs": [],
   "source": [
    "list_of_num=[2,4,6,8,10,12,14,16,18,20]\n",
    "\n",
    "def reverse_array(arr):\n",
    "    return arr[::-1]\n",
    "    "
   ]
  },
  {
   "cell_type": "code",
   "execution_count": 19,
   "id": "57ab31b6-a1ee-4d4c-a099-d8324eeb0207",
   "metadata": {},
   "outputs": [
    {
     "data": {
      "text/plain": [
       "[20, 18, 16, 14, 12, 10, 8, 6, 4, 2]"
      ]
     },
     "execution_count": 19,
     "metadata": {},
     "output_type": "execute_result"
    }
   ],
   "source": [
    "solution_3 = reverse_array(list_of_num)\n",
    "solution_3"
   ]
  },
  {
   "cell_type": "markdown",
   "id": "d323235a-c458-4877-ad61-d3ddf4962277",
   "metadata": {},
   "source": [
    "### Problem 4\n",
    "+ Find the Second Largest Element in an Array: Write a function that takes an array of numbers as input and returns the second largest element."
   ]
  },
  {
   "cell_type": "code",
   "execution_count": 22,
   "id": "7c10e7f5-e721-4e77-b672-a8de4353711e",
   "metadata": {},
   "outputs": [],
   "source": [
    "list_of_num=[2,4,22,7,10,42,14,16,18,20]\n",
    "\n",
    "def find_2nd_largest_num(arr):\n",
    "    return sorted(list_of_num[::-1])[-2]"
   ]
  },
  {
   "cell_type": "code",
   "execution_count": 23,
   "id": "a1d04a4b-6d0f-4b95-bdf8-d4a06e294bc5",
   "metadata": {},
   "outputs": [
    {
     "data": {
      "text/plain": [
       "22"
      ]
     },
     "execution_count": 23,
     "metadata": {},
     "output_type": "execute_result"
    }
   ],
   "source": [
    "solution_4 = find_2nd_largest_num(list_of_num)\n",
    "solution_4"
   ]
  },
  {
   "cell_type": "markdown",
   "id": "5fe97ced-a7bb-4e13-a76b-e2ff4db813d8",
   "metadata": {},
   "source": [
    "### Problem 5\n",
    "+ Merge Two Sorted Arrays: Write a function that takes two sorted arrays as input and returns a new sorted array containing elements from both arrays."
   ]
  },
  {
   "cell_type": "code",
   "execution_count": 24,
   "id": "8c77e861-ac65-4b0a-9b5a-de8fe538d359",
   "metadata": {},
   "outputs": [],
   "source": [
    "array_1 = [2,8,10,75]\n",
    "array_2 = [35,1,9,74]\n",
    "\n",
    "def merge_sorted_arrays(arr1, arr2):\n",
    "    return sorted(arr1 + arr2)"
   ]
  },
  {
   "cell_type": "code",
   "execution_count": 25,
   "id": "8277bb5f-07a3-4b62-add3-0cca1a2d5354",
   "metadata": {},
   "outputs": [
    {
     "data": {
      "text/plain": [
       "[1, 2, 8, 9, 10, 35, 74, 75]"
      ]
     },
     "execution_count": 25,
     "metadata": {},
     "output_type": "execute_result"
    }
   ],
   "source": [
    "solution_5 = merge_sorted_arrays(array_1, array_2)\n",
    "solution_5"
   ]
  },
  {
   "cell_type": "markdown",
   "id": "149b3e35-ce6d-4cc8-9e5e-6c465eea73bd",
   "metadata": {},
   "source": [
    "## Search Algorithms"
   ]
  },
  {
   "cell_type": "markdown",
   "id": "dd71575c-fe7c-45e9-9216-69a7706626cd",
   "metadata": {},
   "source": [
    "### Problem 6\n",
    "+ Find the last occurrence of a target element in an array using linear search.\n",
    "+ Input: An array of integers and a target element.\n",
    "+ Output: The index of the last occurrence of the target element in the array, or -1 if the target element is not found."
   ]
  },
  {
   "cell_type": "code",
   "execution_count": 40,
   "id": "e2b967e3-81f3-476c-bbeb-fd43ada934ca",
   "metadata": {},
   "outputs": [],
   "source": [
    "list_num = [4,5,9,6,7,8,12, 9]\n",
    "target = 9\n",
    "\n",
    "def find_last_occurence(arr, target):\n",
    "    for i in range(len(arr))[::-1]:\n",
    "        if arr[i]==target:\n",
    "            return i\n",
    "    return "
   ]
  },
  {
   "cell_type": "code",
   "execution_count": 41,
   "id": "7e37cc9e-c736-45b3-b7b5-cd33a39dd939",
   "metadata": {},
   "outputs": [
    {
     "data": {
      "text/plain": [
       "7"
      ]
     },
     "execution_count": 41,
     "metadata": {},
     "output_type": "execute_result"
    }
   ],
   "source": [
    "solution_6 = find_last_occurence(list_num, target)\n",
    "solution_6"
   ]
  },
  {
   "cell_type": "markdown",
   "id": "d6c117b7-b7bd-4c6e-956f-fff235d96f18",
   "metadata": {},
   "source": [
    "### Problem 7\n",
    "+ Find the index of the first element greater than a target value in a sorted array using binary search"
   ]
  },
  {
   "cell_type": "code",
   "execution_count": 47,
   "id": "a10aebea-1dd2-4866-98d9-86e08a2faf9f",
   "metadata": {},
   "outputs": [
    {
     "data": {
      "text/plain": [
       "5"
      ]
     },
     "execution_count": 47,
     "metadata": {},
     "output_type": "execute_result"
    }
   ],
   "source": [
    "list_num = [4,5,9,6,7,8,12, 9]\n",
    "target = 9\n",
    "\n",
    "def binary_search_target(arr, target):\n",
    "    list_nums = sorted(arr)\n",
    "    low_index = 0\n",
    "    high_index = len(arr)-1\n",
    "\n",
    "    while low_index <= high_index:\n",
    "        mid = (low_index + high_index)// 2\n",
    "        if list_nums[mid]==target:\n",
    "            return mid\n",
    "        elif list_nums[mid] <= target:\n",
    "            low_index = mid+1\n",
    "        else:\n",
    "            high_index = mid -1\n",
    "    \n",
    "solution_7 = binary_search_target(list_num, target)\n",
    "solution_7\n",
    "        "
   ]
  },
  {
   "cell_type": "markdown",
   "id": "ee3afba1-89c2-4466-91b2-36ea1ae66407",
   "metadata": {},
   "source": [
    "### Problem 8"
   ]
  },
  {
   "cell_type": "code",
   "execution_count": null,
   "id": "2e85d695-da48-4662-9cd8-083d2039e24d",
   "metadata": {},
   "outputs": [],
   "source": []
  }
 ],
 "metadata": {
  "kernelspec": {
   "display_name": "Python 3 (ipykernel)",
   "language": "python",
   "name": "python3"
  },
  "language_info": {
   "codemirror_mode": {
    "name": "ipython",
    "version": 3
   },
   "file_extension": ".py",
   "mimetype": "text/x-python",
   "name": "python",
   "nbconvert_exporter": "python",
   "pygments_lexer": "ipython3",
   "version": "3.10.8"
  }
 },
 "nbformat": 4,
 "nbformat_minor": 5
}
